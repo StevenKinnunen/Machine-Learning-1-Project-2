{
 "cells": [
  {
   "cell_type": "markdown",
   "id": "8841a5ce",
   "metadata": {},
   "source": [
    "# Predicting Flight Status with Naive Bayes, Decision Trees and Logistic Regression"
   ]
  },
  {
   "cell_type": "markdown",
   "id": "d83ee213",
   "metadata": {},
   "source": [
    "Mariana Betancourt, Sandra Maldonado Barbosa, Bryan Meriel and Steven Kinnunen"
   ]
  },
  {
   "cell_type": "code",
   "execution_count": 2,
   "id": "e1b37a1d",
   "metadata": {},
   "outputs": [],
   "source": [
    "import pandas as pd\n",
    "import numpy as np\n",
    "from matplotlib import pyplot as plt\n",
    "import seaborn as sns\n",
    "from imblearn.over_sampling import RandomOverSampler\n",
    "from sklearn.linear_model import LogisticRegression\n",
    "from sklearn.model_selection import train_test_split\n",
    "import dmba\n",
    "from sklearn.naive_bayes import MultinomialNB \n",
    "from sklearn.tree import DecisionTreeClassifier\n",
    "from sklearn.model_selection import ParameterGrid,GridSearchCV"
   ]
  },
  {
   "cell_type": "markdown",
   "id": "5649177f",
   "metadata": {},
   "source": [
    "# Loading and Preprocessing Data"
   ]
  },
  {
   "cell_type": "markdown",
   "id": "3923140d",
   "metadata": {},
   "source": [
    "Reading source file into a pandas dataframe."
   ]
  },
  {
   "cell_type": "code",
   "execution_count": 3,
   "id": "c35f8b39",
   "metadata": {},
   "outputs": [],
   "source": [
    "flight_df = pd.read_csv(\"FlightDelays.csv\")"
   ]
  },
  {
   "cell_type": "markdown",
   "id": "ca0d99e9",
   "metadata": {},
   "source": [
    "Checking the first 5 records of the dataframe."
   ]
  },
  {
   "cell_type": "code",
   "execution_count": 4,
   "id": "32b7219c",
   "metadata": {},
   "outputs": [
    {
     "data": {
      "text/html": [
       "<div>\n",
       "<style scoped>\n",
       "    .dataframe tbody tr th:only-of-type {\n",
       "        vertical-align: middle;\n",
       "    }\n",
       "\n",
       "    .dataframe tbody tr th {\n",
       "        vertical-align: top;\n",
       "    }\n",
       "\n",
       "    .dataframe thead th {\n",
       "        text-align: right;\n",
       "    }\n",
       "</style>\n",
       "<table border=\"1\" class=\"dataframe\">\n",
       "  <thead>\n",
       "    <tr style=\"text-align: right;\">\n",
       "      <th></th>\n",
       "      <th>CRS_DEP_TIME</th>\n",
       "      <th>CARRIER</th>\n",
       "      <th>DEP_TIME</th>\n",
       "      <th>DEST</th>\n",
       "      <th>DISTANCE</th>\n",
       "      <th>FL_DATE</th>\n",
       "      <th>FL_NUM</th>\n",
       "      <th>ORIGIN</th>\n",
       "      <th>Weather</th>\n",
       "      <th>DAY_WEEK</th>\n",
       "      <th>DAY_OF_MONTH</th>\n",
       "      <th>TAIL_NUM</th>\n",
       "      <th>Flight Status</th>\n",
       "    </tr>\n",
       "  </thead>\n",
       "  <tbody>\n",
       "    <tr>\n",
       "      <th>0</th>\n",
       "      <td>1455</td>\n",
       "      <td>OH</td>\n",
       "      <td>1455</td>\n",
       "      <td>JFK</td>\n",
       "      <td>184</td>\n",
       "      <td>37987</td>\n",
       "      <td>5935</td>\n",
       "      <td>BWI</td>\n",
       "      <td>0</td>\n",
       "      <td>4</td>\n",
       "      <td>1</td>\n",
       "      <td>N940CA</td>\n",
       "      <td>ontime</td>\n",
       "    </tr>\n",
       "    <tr>\n",
       "      <th>1</th>\n",
       "      <td>1640</td>\n",
       "      <td>DH</td>\n",
       "      <td>1640</td>\n",
       "      <td>JFK</td>\n",
       "      <td>213</td>\n",
       "      <td>2004-01-01</td>\n",
       "      <td>6155</td>\n",
       "      <td>DCA</td>\n",
       "      <td>0</td>\n",
       "      <td>4</td>\n",
       "      <td>1</td>\n",
       "      <td>N405FJ</td>\n",
       "      <td>ontime</td>\n",
       "    </tr>\n",
       "    <tr>\n",
       "      <th>2</th>\n",
       "      <td>1245</td>\n",
       "      <td>DH</td>\n",
       "      <td>1245</td>\n",
       "      <td>LGA</td>\n",
       "      <td>229</td>\n",
       "      <td>2004-01-01</td>\n",
       "      <td>7208</td>\n",
       "      <td>IAD</td>\n",
       "      <td>0</td>\n",
       "      <td>4</td>\n",
       "      <td>1</td>\n",
       "      <td>N695BR</td>\n",
       "      <td>ontime</td>\n",
       "    </tr>\n",
       "    <tr>\n",
       "      <th>3</th>\n",
       "      <td>1715</td>\n",
       "      <td>DH</td>\n",
       "      <td>1709</td>\n",
       "      <td>LGA</td>\n",
       "      <td>229</td>\n",
       "      <td>2004-01-01</td>\n",
       "      <td>7215</td>\n",
       "      <td>IAD</td>\n",
       "      <td>0</td>\n",
       "      <td>4</td>\n",
       "      <td>1</td>\n",
       "      <td>N662BR</td>\n",
       "      <td>ontime</td>\n",
       "    </tr>\n",
       "    <tr>\n",
       "      <th>4</th>\n",
       "      <td>1039</td>\n",
       "      <td>DH</td>\n",
       "      <td>1035</td>\n",
       "      <td>LGA</td>\n",
       "      <td>229</td>\n",
       "      <td>2004-01-01</td>\n",
       "      <td>7792</td>\n",
       "      <td>IAD</td>\n",
       "      <td>0</td>\n",
       "      <td>4</td>\n",
       "      <td>1</td>\n",
       "      <td>N698BR</td>\n",
       "      <td>ontime</td>\n",
       "    </tr>\n",
       "  </tbody>\n",
       "</table>\n",
       "</div>"
      ],
      "text/plain": [
       "   CRS_DEP_TIME CARRIER  DEP_TIME DEST  DISTANCE     FL_DATE  FL_NUM ORIGIN  \\\n",
       "0          1455      OH      1455  JFK       184       37987    5935    BWI   \n",
       "1          1640      DH      1640  JFK       213  2004-01-01    6155    DCA   \n",
       "2          1245      DH      1245  LGA       229  2004-01-01    7208    IAD   \n",
       "3          1715      DH      1709  LGA       229  2004-01-01    7215    IAD   \n",
       "4          1039      DH      1035  LGA       229  2004-01-01    7792    IAD   \n",
       "\n",
       "   Weather  DAY_WEEK  DAY_OF_MONTH TAIL_NUM Flight Status  \n",
       "0        0         4             1   N940CA        ontime  \n",
       "1        0         4             1   N405FJ        ontime  \n",
       "2        0         4             1   N695BR        ontime  \n",
       "3        0         4             1   N662BR        ontime  \n",
       "4        0         4             1   N698BR        ontime  "
      ]
     },
     "execution_count": 4,
     "metadata": {},
     "output_type": "execute_result"
    }
   ],
   "source": [
    "flight_df.head()"
   ]
  },
  {
   "cell_type": "markdown",
   "id": "a00f6a91",
   "metadata": {},
   "source": [
    "Getting the number of records."
   ]
  },
  {
   "cell_type": "code",
   "execution_count": 5,
   "id": "a581085e",
   "metadata": {},
   "outputs": [
    {
     "name": "stdout",
     "output_type": "stream",
     "text": [
      "2201\n"
     ]
    }
   ],
   "source": [
    "print(len(flight_df))"
   ]
  },
  {
   "cell_type": "markdown",
   "id": "6b8537d4",
   "metadata": {},
   "source": [
    "We start out wth 2201 rows. First, we will check the unique values of each column to detect any obvious outliers."
   ]
  },
  {
   "cell_type": "code",
   "execution_count": 6,
   "id": "170fe229",
   "metadata": {},
   "outputs": [
    {
     "data": {
      "text/plain": [
       "array([1455, 1640, 1245, 1715, 1039,  840, 1240, 1645, 2120,  930, 1230,\n",
       "       1430, 1730, 2030, 1530,  600, 1830,  900, 1300, 1400, 1500, 1900,\n",
       "        850, 1100, 1700, 2100, 1720, 1030,  700, 1710, 1525, 1515, 1630,\n",
       "        640, 1610,  759,  630,  830, 1725, 1600,  730, 1000, 1200, 1800,\n",
       "       2000, 1315, 1605, 1130, 1330, 1930,  800,  735, 1359,  645, 1040,\n",
       "        925, 2130,  845, 1520], dtype=int64)"
      ]
     },
     "execution_count": 6,
     "metadata": {},
     "output_type": "execute_result"
    }
   ],
   "source": [
    "flight_df['CRS_DEP_TIME'].unique()"
   ]
  },
  {
   "cell_type": "code",
   "execution_count": 7,
   "id": "3d20ce15",
   "metadata": {},
   "outputs": [
    {
     "data": {
      "text/plain": [
       "array(['OH', 'DH', 'DL', 'MQ', 'UA', 'US', 'RU', 'CO'], dtype=object)"
      ]
     },
     "execution_count": 7,
     "metadata": {},
     "output_type": "execute_result"
    }
   ],
   "source": [
    "flight_df['CARRIER'].unique()"
   ]
  },
  {
   "cell_type": "code",
   "execution_count": 8,
   "id": "4f99b7c0",
   "metadata": {},
   "outputs": [
    {
     "data": {
      "text/plain": [
       "array([1455, 1640, 1245, 1709, 1035,  839, 1243, 1644, 1710, 2129, 2114,\n",
       "       1458,  932, 1228, 1429, 1728, 2029, 1525,  556, 1822,  853, 1254,\n",
       "       1356, 1452, 1853,  841,  858, 1056, 1253, 1655, 2055, 1030,  656,\n",
       "       1256, 1726,  840, 1704, 2118, 1651, 1850, 1521, 1855, 1357, 1508,\n",
       "       1255, 1625, 1641, 1249, 1531, 1712,  645, 1236,  859, 1232, 1645,\n",
       "       1716, 2305, 1605,  930, 1230, 1427, 1730, 2028, 1522,  552, 1847,\n",
       "        852, 1053, 1258, 1402, 1456,  850,  657,  857, 1058, 2056, 1715,\n",
       "       1727, 1301,  754,  837, 1350, 1512,  629,  655, 1650, 1856,  854,\n",
       "       1858, 2050, 1358, 1510, 1519, 1738,  640,  855, 1237, 1654, 1741,\n",
       "       2213, 1604, 2138, 1505,  828, 1428, 1629, 1829, 2024, 1600,  555,\n",
       "        849, 1059, 1500, 1658, 1857, 1714, 1026, 1448, 1705, 1329, 2126,\n",
       "        625, 1722,  658,  941, 1556, 1511,  703, 1535, 1837, 1032,  900,\n",
       "       1504, 1642, 2120, 1607, 2116, 1028, 1432, 1832, 2030, 1534,  554,\n",
       "        745, 1257, 1659, 1936,  954, 1055, 1158, 1359, 1559, 1758, 1957,\n",
       "       2059, 1615, 1416, 1235, 1833, 1917, 1310, 2221, 1952,  927, 2110,\n",
       "       1557, 1610, 1638, 1338, 1606, 1848,  633, 1054,  946, 1312, 1700,\n",
       "       2200, 2125, 1459,  630,  734,  830, 1031, 1128, 1635, 1955, 1538,\n",
       "        557,  758, 1103, 1250, 1627, 1702, 1949,  848,  627,  757,  958,\n",
       "       1057, 1155, 1601, 1657, 1757, 1959, 2100,  744, 1527, 1221, 1324,\n",
       "       1846,  844, 1920, 2312, 1536,  624,  700, 1321, 2105, 1454, 2104,\n",
       "       1602, 1617, 1240, 1451, 1752,  635, 1034, 1453, 1756, 2153, 1457,\n",
       "        728,  829, 1130, 1327, 1529, 1830, 1929, 2031, 1548,  558, 1843,\n",
       "        817, 1100, 1313, 1355, 1555, 1904, 1000, 1259, 1958, 1729, 1037,\n",
       "       1740,  727,  847, 1435,  622, 2222, 1901, 1656,  644, 1639, 1306,\n",
       "       1445, 1813, 1038,  831, 1922, 1501,  631, 1131, 1231, 1430, 1528,\n",
       "       1828, 1927, 1530, 1918,  746, 1352, 1624, 2014,  628,  956, 1157,\n",
       "       1354, 1859, 2054,  659, 1044, 1948, 1725, 1320, 2117, 1439,  731,\n",
       "        856,  641, 2058, 1706, 2151,  648, 1036, 1449, 2135, 1609,  931,\n",
       "       1129, 1328, 1533, 1630, 1731, 1928, 2027, 1524, 1844,  722,  759,\n",
       "       1050, 1353, 1852,  756, 1408, 1733, 1916, 1739, 1854,  838, 1241,\n",
       "       1421,  654,  707, 2051, 1634, 1608, 2106, 2134,  714, 1106,  836,\n",
       "       1643, 2115, 1506,  730,  832, 1633, 1735, 1931, 1851,  843,  851,\n",
       "       1141, 1252, 1503, 1618,  904, 1902, 1956, 2052, 1720, 1450, 1108,\n",
       "        732, 1707, 1242, 2121, 1423, 1526, 2130,  918, 1303, 1708, 1800,\n",
       "        729, 1826, 1309, 1723,  906, 1703, 1719,  925, 1304, 1238, 1637,\n",
       "       2155, 1628, 1732, 1842, 2032,  915, 2015, 1652, 1900,  957, 1202,\n",
       "       1753, 2002, 1736, 1029, 1623,  835, 2113,  926, 1244, 1442, 2112,\n",
       "        833,  733, 1004,  553, 1820, 1552, 1647, 1903,  955, 1156, 1509,\n",
       "       1040, 1348, 1649,  651, 1622, 2124, 1713,  929, 1930, 1516,  650,\n",
       "        755, 1248, 1401, 1811, 2007,  845, 1558, 1759, 1025, 1831,  653,\n",
       "       1537, 1816, 1924,  626, 2119, 1631, 1132, 1431, 1825, 1111, 1612,\n",
       "       1001, 1653, 1915, 1745, 2330, 1502,  643, 1545, 2133,  943, 1330,\n",
       "       1523, 1834,  800, 1341, 1400, 2012,  815, 1019, 1701, 1027, 1951,\n",
       "        623, 1345, 1646, 2140, 1648, 1246, 2127,  739, 1331, 1532, 2019,\n",
       "        747, 1217, 1315, 2006, 1151, 2000, 2057, 1849, 1912,  834, 1711,\n",
       "       1549, 2045, 1827, 2230, 2136, 1808, 2026, 1247, 1717, 1351,  924,\n",
       "       1302, 1802, 1539, 2111, 1632,  919, 2023, 1540, 1818, 2004, 1102,\n",
       "       1159, 1314, 1754, 1636,   10, 1603,  842,  822, 1937,  846, 1755,\n",
       "       2300, 1300, 2143, 1033, 1446, 1514, 1227,  548, 1823, 1551, 1554,\n",
       "       1426,  638,  708, 1239, 2220,  702, 1332,  652,  753, 1349, 1803,\n",
       "       2145, 1424, 1520, 1251,  642,  928, 2033, 1517, 1153, 2011, 2139,\n",
       "       1721, 1425, 1307,  109,  634, 1048,  726, 1229, 1047, 2239,  901,\n",
       "       1305, 1751,  550, 1812, 1319,  824, 2244, 1326, 2122,  826,  917,\n",
       "       1953, 1137, 1620, 1947, 2150,  741, 1433, 1619, 1017,  920, 2010,\n",
       "        646,  801, 1737,  750,  632, 1939, 1515, 1941, 1409, 1342, 1750,\n",
       "        810, 1824, 1444,  711, 1744,  912, 1513,  921, 1005, 1022,  911,\n",
       "        721, 1613,  559,  749, 2001, 1718,  913, 2211, 1405, 2214,  827,\n",
       "       1748,  613, 1819,  706,  704, 1403], dtype=int64)"
      ]
     },
     "execution_count": 8,
     "metadata": {},
     "output_type": "execute_result"
    }
   ],
   "source": [
    "flight_df['DEP_TIME'].unique()"
   ]
  },
  {
   "cell_type": "code",
   "execution_count": 9,
   "id": "6c5dcdd9",
   "metadata": {},
   "outputs": [
    {
     "data": {
      "text/plain": [
       "array(['JFK', 'LGA', 'EWR'], dtype=object)"
      ]
     },
     "execution_count": 9,
     "metadata": {},
     "output_type": "execute_result"
    }
   ],
   "source": [
    "flight_df['DEST'].unique()"
   ]
  },
  {
   "cell_type": "code",
   "execution_count": 10,
   "id": "2850852a",
   "metadata": {},
   "outputs": [
    {
     "data": {
      "text/plain": [
       "array([184, 213, 229, 228, 214, 169, 199], dtype=int64)"
      ]
     },
     "execution_count": 10,
     "metadata": {},
     "output_type": "execute_result"
    }
   ],
   "source": [
    "flight_df['DISTANCE'].unique()"
   ]
  },
  {
   "cell_type": "code",
   "execution_count": 11,
   "id": "e5c6d234",
   "metadata": {},
   "outputs": [
    {
     "data": {
      "text/plain": [
       "array(['37987', '2004-01-01', '2004-01-02', '2004-01-03', '2004-01-04',\n",
       "       '2004-01-05', '2004-01-06', '2004-01-07', '2004-01-08',\n",
       "       '2004-01-09', '2004-01-10', '2004-01-11', '2004-01-12',\n",
       "       '2004-01-13', '2004-01-14', '2004-01-15', '2004-01-16',\n",
       "       '2004-01-17', '2004-01-18', '2004-01-19', '2004-01-20',\n",
       "       '2004-01-21', '2004-01-22', '2004-01-23', '2004-01-24',\n",
       "       '2004-01-25', '2004-01-26', '2004-01-27', '2004-01-28',\n",
       "       '2004-01-29', '2004-01-30', '2004-01-31'], dtype=object)"
      ]
     },
     "execution_count": 11,
     "metadata": {},
     "output_type": "execute_result"
    }
   ],
   "source": [
    "flight_df['FL_DATE'].unique()"
   ]
  },
  {
   "cell_type": "markdown",
   "id": "b056c016",
   "metadata": {},
   "source": [
    "Here, we can see that FL_DATE has at least one value that does not conform to the date format. So we will filter the dataframe for records that are not equal to the non-conforming value."
   ]
  },
  {
   "cell_type": "code",
   "execution_count": 12,
   "id": "5eb96238",
   "metadata": {},
   "outputs": [],
   "source": [
    "flight_df = flight_df[flight_df['FL_DATE'] != '37987']"
   ]
  },
  {
   "cell_type": "code",
   "execution_count": 13,
   "id": "151f3a88",
   "metadata": {},
   "outputs": [
    {
     "data": {
      "text/plain": [
       "array(['2004-01-01', '2004-01-02', '2004-01-03', '2004-01-04',\n",
       "       '2004-01-05', '2004-01-06', '2004-01-07', '2004-01-08',\n",
       "       '2004-01-09', '2004-01-10', '2004-01-11', '2004-01-12',\n",
       "       '2004-01-13', '2004-01-14', '2004-01-15', '2004-01-16',\n",
       "       '2004-01-17', '2004-01-18', '2004-01-19', '2004-01-20',\n",
       "       '2004-01-21', '2004-01-22', '2004-01-23', '2004-01-24',\n",
       "       '2004-01-25', '2004-01-26', '2004-01-27', '2004-01-28',\n",
       "       '2004-01-29', '2004-01-30', '2004-01-31'], dtype=object)"
      ]
     },
     "execution_count": 13,
     "metadata": {},
     "output_type": "execute_result"
    }
   ],
   "source": [
    "flight_df['FL_DATE'].unique()"
   ]
  },
  {
   "cell_type": "code",
   "execution_count": 14,
   "id": "89c441ca",
   "metadata": {},
   "outputs": [
    {
     "name": "stdout",
     "output_type": "stream",
     "text": [
      "2200\n"
     ]
    }
   ],
   "source": [
    "print(len(flight_df))"
   ]
  },
  {
   "cell_type": "markdown",
   "id": "8a4007d8",
   "metadata": {},
   "source": [
    "Now all the unique values conform to the same format and we only lost one record to do so. We can now convert the column type to date."
   ]
  },
  {
   "cell_type": "code",
   "execution_count": 15,
   "id": "e6c09da2",
   "metadata": {},
   "outputs": [],
   "source": [
    "flight_df['FL_DATE'] = pd.to_datetime(flight_df['FL_DATE'])"
   ]
  },
  {
   "cell_type": "code",
   "execution_count": 16,
   "id": "c2663b10",
   "metadata": {},
   "outputs": [
    {
     "data": {
      "text/plain": [
       "1   2004-01-01\n",
       "2   2004-01-01\n",
       "3   2004-01-01\n",
       "4   2004-01-01\n",
       "5   2004-01-01\n",
       "Name: FL_DATE, dtype: datetime64[ns]"
      ]
     },
     "execution_count": 16,
     "metadata": {},
     "output_type": "execute_result"
    }
   ],
   "source": [
    "flight_df['FL_DATE'].head()"
   ]
  },
  {
   "cell_type": "code",
   "execution_count": 17,
   "id": "622f8cf3",
   "metadata": {},
   "outputs": [
    {
     "data": {
      "text/plain": [
       "array([6155, 7208, 7215, 7792, 7800, 7806, 7810, 7812, 7814, 7924,  746,\n",
       "       1746, 1752, 1756, 1762, 1768, 4752, 4760, 4784, 4956, 4964, 4966,\n",
       "       4968, 4976,  846, 2164, 2168, 2172, 2176, 2180, 2188, 2403, 2675,\n",
       "       2303, 2703,  808,  814, 7299, 7302, 7303, 7304, 2497, 2385, 2261,\n",
       "       2336, 2216, 2156, 2664, 2181, 5935, 7211, 7790, 7808, 7816, 4960,\n",
       "       2160, 2184,  806, 7307, 7371, 2855, 2582, 2761, 2692, 3276, 2879,\n",
       "       1744, 1748, 1760, 1764, 2267, 2097, 4771, 4972, 2166, 2170, 2174,\n",
       "       2178, 2182, 2186, 2603,  810, 1740, 1742, 1750, 1754, 1766, 4952,\n",
       "       4954, 4970, 1479, 2162, 1758, 3372,  816, 2367, 7305, 7684, 7818,\n",
       "       2229, 2361, 1767, 2254], dtype=int64)"
      ]
     },
     "execution_count": 17,
     "metadata": {},
     "output_type": "execute_result"
    }
   ],
   "source": [
    "flight_df['FL_NUM'].unique()"
   ]
  },
  {
   "cell_type": "code",
   "execution_count": 18,
   "id": "57ac53ed",
   "metadata": {},
   "outputs": [
    {
     "data": {
      "text/plain": [
       "array(['DCA', 'IAD', 'BWI'], dtype=object)"
      ]
     },
     "execution_count": 18,
     "metadata": {},
     "output_type": "execute_result"
    }
   ],
   "source": [
    "flight_df['ORIGIN'].unique()"
   ]
  },
  {
   "cell_type": "code",
   "execution_count": 19,
   "id": "b27ae1a3",
   "metadata": {},
   "outputs": [
    {
     "data": {
      "text/plain": [
       "array([0, 1], dtype=int64)"
      ]
     },
     "execution_count": 19,
     "metadata": {},
     "output_type": "execute_result"
    }
   ],
   "source": [
    "flight_df['Weather'].unique()"
   ]
  },
  {
   "cell_type": "code",
   "execution_count": 20,
   "id": "055e786c",
   "metadata": {},
   "outputs": [
    {
     "data": {
      "text/plain": [
       "array([4, 5, 6, 7, 1, 2, 3], dtype=int64)"
      ]
     },
     "execution_count": 20,
     "metadata": {},
     "output_type": "execute_result"
    }
   ],
   "source": [
    "flight_df['DAY_WEEK'].unique()"
   ]
  },
  {
   "cell_type": "code",
   "execution_count": 21,
   "id": "b43e6b84",
   "metadata": {},
   "outputs": [
    {
     "data": {
      "text/plain": [
       "array([ 1,  2,  3,  4,  5,  6,  7,  8,  9, 10, 11, 12, 13, 14, 15, 16, 17,\n",
       "       18, 19, 20, 21, 22, 23, 24, 25, 26, 27, 28, 29, 30, 31],\n",
       "      dtype=int64)"
      ]
     },
     "execution_count": 21,
     "metadata": {},
     "output_type": "execute_result"
    }
   ],
   "source": [
    "flight_df['DAY_OF_MONTH'].unique()"
   ]
  },
  {
   "cell_type": "code",
   "execution_count": 22,
   "id": "ef881c55",
   "metadata": {},
   "outputs": [
    {
     "data": {
      "text/plain": [
       "array(['N405FJ', 'N695BR', 'N662BR', 'N698BR', 'N687BR', 'N321UE',\n",
       "       'N301UE', 'N328UE', 'N685BR', 'N645BR', 'N918DE', 'N242DL',\n",
       "       'N241DL', 'N709MQ', 'N717MQ', 'N707MQ', 'N737MQ', 'N726MQ',\n",
       "       'N724MQ', 'N513UA', 'N709UW', 'N748UW', 'N14916', 'N16954',\n",
       "       'N26549', 'N18611', 'N19357', 'N691BR', 'N697BR', 'N699BR',\n",
       "       'N12540', 'N16149', 'N12564', 'N21537', 'N15983', 'N12519',\n",
       "       'N19966', 'N995CA', 'N415FJ', 'N688BR', 'N665BR', 'N639BR',\n",
       "       'N686BR', 'N332UE', 'N324UE', 'N305UE', 'N322UE', 'N657BR',\n",
       "       'N315UE', 'N709BR', 'N964DL', 'N225DL', 'N720MQ', 'N736MQ',\n",
       "       'N727MQ', 'N713MQ', 'N708MQ', 'N718MQ', 'N556UA', 'N710UW',\n",
       "       'N736UW', 'N16961', 'N12946', 'N14342', 'N14664', 'N11641',\n",
       "       'N679BR', 'N309UE', 'N312UE', 'N14977', 'N13990', 'N14907',\n",
       "       'N13997', 'N12528', 'N11107', 'N14505', 'N16151', 'N15985',\n",
       "       'N17108', 'N13118', 'N15574', 'N696BR', 'N327UE', 'N311UE',\n",
       "       'N655BR', 'N329UE', 'N997DL', 'N734MQ', 'N712MQ', 'N739MQ',\n",
       "       'N567UA', 'N760UW', 'N11536', 'N14974', 'N11612', 'N693BR',\n",
       "       'N672BR', 'N643BR', 'N333UE', 'N17146', 'N17513', 'N14925',\n",
       "       'N14998', 'N13955', 'N12136', 'N973CA', 'N424FJ', 'N632BR',\n",
       "       'N654BR', 'N634BR', 'N673BR', 'N330UE', 'N314UE', 'N313UE',\n",
       "       'N626BR', 'N674BR', 'N912DL', 'N221DL', 'N719MQ', 'N559UA',\n",
       "       'N730UW', 'N765UW', 'N746UW', 'N711UW', 'N14943', 'N13949',\n",
       "       'N14933', 'N59630', 'N16649', 'N640BR', 'N638BR', 'N13992',\n",
       "       'N24128', 'N16987', 'N12569', 'N18101', 'N814CA', 'N649BR',\n",
       "       'N651BR', 'N331UE', 'N683BR', 'N303UE', 'N994DL', 'N223DZ',\n",
       "       'N704MQ', 'N706MQ', 'N716MQ', 'N700MQ', 'N846MQ', 'N516UA',\n",
       "       'N762UW', 'N750UW', 'N733UW', 'N767UW', 'N14923', 'N16951',\n",
       "       'N14628', 'N14654', 'N14341', 'N622BR', 'N664BR', 'N667BR',\n",
       "       'N320UE', 'N18556', 'N14952', 'N16511', 'N12126', 'N14570',\n",
       "       'N13979', 'N14940', 'N27152', 'N14991', 'N15948', 'N805CA',\n",
       "       'N307UE', 'N676BR', 'N316UE', 'N308UE', 'N694BR', 'N949DL',\n",
       "       'N838MQ', 'N614MQ', 'N710MQ', 'N715MQ', 'N501UA', 'N764UW',\n",
       "       'N721UW', 'N719UW', 'N754UW', 'N29917', 'N27962', 'N13958',\n",
       "       'N12924', 'N24224', 'N38257', 'N16648', 'N652BR', 'N14573',\n",
       "       'N14947', 'N16147', 'N11137', 'N17115', 'N16911', 'N13969',\n",
       "       'N983CA', 'N408FJ', 'N684BR', 'N908DE', 'N224DA', 'N705MQ',\n",
       "       'N722MQ', 'N723MQ', 'N733MQ', 'N730MQ', 'N703MQ', 'N735MQ',\n",
       "       'N725UW', 'N722UW', 'N744UW', 'N720UW', 'N36915', 'N18557',\n",
       "       'N60312', 'N76355', 'N18622', 'N628BR', 'N13903', 'N11150',\n",
       "       'N13538', 'N15527', 'N14153', 'N11140', 'N819cA', 'N418FJ',\n",
       "       'N682BR', 'N680BR', 'N642BR', 'N631BR', 'N962DL', 'N732MQ',\n",
       "       'N721MQ', 'N518UA', 'N727UW', 'N770UW', 'N738UW', 'N13935',\n",
       "       'N15973', 'N29717', 'N18658', 'N14645', 'N13132', 'N24103',\n",
       "       'N25504', 'N10575', 'N11565', 'N16546', 'N16963', 'N812CA',\n",
       "       'N650BR', 'N658BR', 'N647BR', 'N675BR', 'N951DL', 'N222DZ',\n",
       "       'N801MQ', 'N731MQ', 'N520UA', 'N724UW', 'N15926', 'N13989',\n",
       "       'N12552', 'N70353', 'N46625', 'N19621', 'N661BR', 'N646BR',\n",
       "       'N13550', 'N12900', 'N627BR', 'N692BR', 'N906DE', 'N841MQ',\n",
       "       'N565UA', 'N13553', 'N13936', 'N14660', 'N705BR', 'N625BR',\n",
       "       'N26545', 'N17560', 'N11113', 'N966CA', 'N706BR', 'N677BR',\n",
       "       'N970DL', 'N588UA', 'N763UW', 'N33608', 'N11656', 'N19623',\n",
       "       'N13123', 'N13975', 'N16976', 'N14993', 'N13968', 'N702BR',\n",
       "       'N659BR', 'N974DL', 'N725MQ', 'N711MQ', 'N562UA', 'N708UW',\n",
       "       'N32626', 'N23657', 'N61304', 'N15659', 'N19554', 'N12567',\n",
       "       'N16927', 'N17507', 'N12996', 'N41104', 'N967CA', 'N426FJ',\n",
       "       'N648BR', 'N690BR', 'N904DE', 'N514UA', 'N756UW', 'N741UW',\n",
       "       'N737UW', 'N14542', 'N12530', 'N16632', 'N14337', 'N16646',\n",
       "       'N12922', 'N796CA', 'N987DL', 'N231DN', 'N813MQ', 'N843MQ',\n",
       "       'N728MQ', 'N533UA', 'N739UW', 'N707UW', 'N12921', 'N14667',\n",
       "       'N39343', 'N629BR', 'N15555', 'N13995', 'N14148', 'N34111',\n",
       "       'N13964', 'N419FJ', 'N671BR', 'N963DL', 'N738MQ', 'N555UA',\n",
       "       'N757UW', 'N700UW', 'N715UW', 'N12934', 'N11551', 'N17614',\n",
       "       'N23139', 'N27512', 'N14942', 'N11127', 'N13994', 'N924CA',\n",
       "       'N423FJ', 'N636BR', 'N624BR', 'N902DE', 'N232DZ', 'N805MQ',\n",
       "       'N723UW', 'N745UW', 'N716UW', 'N13913', 'N13914', 'N12319',\n",
       "       'N26141', 'N14950', 'N15572', 'N16510', 'N14972', 'N15910',\n",
       "       'N435CA', 'N409FJ', 'N660BR', 'N909DL', 'N729MQ', 'N507UA',\n",
       "       'N37615', 'N29906', 'N14562', 'N21144', 'N712CA', 'N404FJ',\n",
       "       'N663BR', 'N678BR', 'N928DL', 'N579UA', 'N755UW', 'N17984',\n",
       "       'N15980', 'N16501', 'N14629', 'N16650', 'N701BR', 'N13124',\n",
       "       'N14558', 'N13929', 'N975CA', 'N910DL', 'N753UW', 'N706UW',\n",
       "       'N17321', 'N14639', 'N17619', 'N689BR', 'N710BR', 'N16520',\n",
       "       'N28518', 'N15912', 'N18120', 'N48901', 'N956CA', 'N637BR',\n",
       "       'N708BR', 'N926DL', 'N701MQ', 'N702MQ', 'N769UW', 'N705UW',\n",
       "       'N749UW', 'N14920', 'N13566', 'N14655', 'N47332', 'N16607',\n",
       "       'N14543', 'N11539', 'N804CA', 'N656BR', 'N938DL', 'N3734B',\n",
       "       'N563UA', 'N713UW', 'N766UW', 'N14902', 'N14568', 'N12327',\n",
       "       'N14601', 'N62631', 'N18102', 'N949CA', 'N653BR', 'N623BR',\n",
       "       'N986DL', 'N814MQ', 'N558UA', 'N714UW', 'N11535', 'N17663',\n",
       "       'N17644', 'N27733', 'N703BR', 'N14514', 'N13970', 'N16918',\n",
       "       'N25134', 'N430CA', 'N668BR', 'N937DL', 'N517UA', 'N768UW',\n",
       "       'N21129', 'N14959', 'N63305', 'N17620', 'N13665', 'N14143',\n",
       "       'N16502', 'N442CA', 'N428FJ', 'N635BR', 'N913DL', 'N14945',\n",
       "       'N12135', 'N14930', 'N11548', 'N402FJ', 'N306UE', 'N931DL',\n",
       "       'N851MQ', 'N581UA', 'N13908', 'N13956', 'N811CA', 'N681BR',\n",
       "       'N670BR', 'N905DL', 'N525UA', 'N704UW', 'N13624', 'N23661',\n",
       "       'N33637', 'N14116', 'N34110', 'N420FJ', 'N927DA', 'N845MQ',\n",
       "       'N534UA', 'N10323', 'N14613', 'N18982', 'N809CA', 'N451FJ',\n",
       "       'N921DL', 'N836MQ', 'N540UA', 'N758UW', 'N14336', 'N19638',\n",
       "       'N17521', 'N16571', 'N11119', 'N669BR', 'N620BR', 'N954DL',\n",
       "       'N751UW', 'N14652', 'N16701', 'N13965', 'N958CA', 'N940DL',\n",
       "       'N536UA', 'N12563', 'N14605', 'N11121', 'N959CA', 'N934DL',\n",
       "       'N592UA', 'N15932'], dtype=object)"
      ]
     },
     "execution_count": 22,
     "metadata": {},
     "output_type": "execute_result"
    }
   ],
   "source": [
    "flight_df['TAIL_NUM'].unique()"
   ]
  },
  {
   "cell_type": "code",
   "execution_count": 23,
   "id": "ff373687",
   "metadata": {},
   "outputs": [
    {
     "data": {
      "text/plain": [
       "array(['ontime', 'delayed'], dtype=object)"
      ]
     },
     "execution_count": 23,
     "metadata": {},
     "output_type": "execute_result"
    }
   ],
   "source": [
    "flight_df['Flight Status'].unique()"
   ]
  },
  {
   "cell_type": "markdown",
   "id": "430a6060",
   "metadata": {},
   "source": [
    "Based on our research, we have determined that TAIL_NUM, corresponding to the tail number can be dropped since it is merely a unique identifier and not a meaningful category or numeric value that measures a quantity. Similarly, flight numbers (FL_NUM) are unique identifiers for specific trips and do not represent meaningful categories or measurable quantities. CRS departure times (CRS_DEP_TIME) appear to correspond to scheduled rather than actual departure times. Moreover, the flight date (FL_DATE) column is redundant since all records take place in the same month. Since a day of the month column already exists, we will drop the date column. Since there is another column with actual departure times (DEP_TIME), this column is redundant and will also be removed.\n",
    "\n",
    "Sources: https://www.indianeagle.com/traveldiary/how-to-find-flight-number/, \n",
    "         https://www.stat.purdue.edu/~lfindsen/stat350/airline2008_dataset_definition.pdf\n",
    "         "
   ]
  },
  {
   "cell_type": "code",
   "execution_count": 24,
   "id": "9595f247",
   "metadata": {},
   "outputs": [],
   "source": [
    "flight_df_clean = flight_df.drop(columns=['CRS_DEP_TIME', 'FL_NUM', 'TAIL_NUM', 'FL_DATE'])"
   ]
  },
  {
   "cell_type": "code",
   "execution_count": 25,
   "id": "9f36fade",
   "metadata": {},
   "outputs": [
    {
     "data": {
      "text/html": [
       "<div>\n",
       "<style scoped>\n",
       "    .dataframe tbody tr th:only-of-type {\n",
       "        vertical-align: middle;\n",
       "    }\n",
       "\n",
       "    .dataframe tbody tr th {\n",
       "        vertical-align: top;\n",
       "    }\n",
       "\n",
       "    .dataframe thead th {\n",
       "        text-align: right;\n",
       "    }\n",
       "</style>\n",
       "<table border=\"1\" class=\"dataframe\">\n",
       "  <thead>\n",
       "    <tr style=\"text-align: right;\">\n",
       "      <th></th>\n",
       "      <th>CARRIER</th>\n",
       "      <th>DEP_TIME</th>\n",
       "      <th>DEST</th>\n",
       "      <th>DISTANCE</th>\n",
       "      <th>ORIGIN</th>\n",
       "      <th>Weather</th>\n",
       "      <th>DAY_WEEK</th>\n",
       "      <th>DAY_OF_MONTH</th>\n",
       "      <th>Flight Status</th>\n",
       "    </tr>\n",
       "  </thead>\n",
       "  <tbody>\n",
       "    <tr>\n",
       "      <th>1</th>\n",
       "      <td>DH</td>\n",
       "      <td>1640</td>\n",
       "      <td>JFK</td>\n",
       "      <td>213</td>\n",
       "      <td>DCA</td>\n",
       "      <td>0</td>\n",
       "      <td>4</td>\n",
       "      <td>1</td>\n",
       "      <td>ontime</td>\n",
       "    </tr>\n",
       "    <tr>\n",
       "      <th>2</th>\n",
       "      <td>DH</td>\n",
       "      <td>1245</td>\n",
       "      <td>LGA</td>\n",
       "      <td>229</td>\n",
       "      <td>IAD</td>\n",
       "      <td>0</td>\n",
       "      <td>4</td>\n",
       "      <td>1</td>\n",
       "      <td>ontime</td>\n",
       "    </tr>\n",
       "    <tr>\n",
       "      <th>3</th>\n",
       "      <td>DH</td>\n",
       "      <td>1709</td>\n",
       "      <td>LGA</td>\n",
       "      <td>229</td>\n",
       "      <td>IAD</td>\n",
       "      <td>0</td>\n",
       "      <td>4</td>\n",
       "      <td>1</td>\n",
       "      <td>ontime</td>\n",
       "    </tr>\n",
       "    <tr>\n",
       "      <th>4</th>\n",
       "      <td>DH</td>\n",
       "      <td>1035</td>\n",
       "      <td>LGA</td>\n",
       "      <td>229</td>\n",
       "      <td>IAD</td>\n",
       "      <td>0</td>\n",
       "      <td>4</td>\n",
       "      <td>1</td>\n",
       "      <td>ontime</td>\n",
       "    </tr>\n",
       "    <tr>\n",
       "      <th>5</th>\n",
       "      <td>DH</td>\n",
       "      <td>839</td>\n",
       "      <td>JFK</td>\n",
       "      <td>228</td>\n",
       "      <td>IAD</td>\n",
       "      <td>0</td>\n",
       "      <td>4</td>\n",
       "      <td>1</td>\n",
       "      <td>ontime</td>\n",
       "    </tr>\n",
       "  </tbody>\n",
       "</table>\n",
       "</div>"
      ],
      "text/plain": [
       "  CARRIER  DEP_TIME DEST  DISTANCE ORIGIN  Weather  DAY_WEEK  DAY_OF_MONTH  \\\n",
       "1      DH      1640  JFK       213    DCA        0         4             1   \n",
       "2      DH      1245  LGA       229    IAD        0         4             1   \n",
       "3      DH      1709  LGA       229    IAD        0         4             1   \n",
       "4      DH      1035  LGA       229    IAD        0         4             1   \n",
       "5      DH       839  JFK       228    IAD        0         4             1   \n",
       "\n",
       "  Flight Status  \n",
       "1        ontime  \n",
       "2        ontime  \n",
       "3        ontime  \n",
       "4        ontime  \n",
       "5        ontime  "
      ]
     },
     "execution_count": 25,
     "metadata": {},
     "output_type": "execute_result"
    }
   ],
   "source": [
    "flight_df_clean.head()"
   ]
  },
  {
   "cell_type": "markdown",
   "id": "888e7c17",
   "metadata": {},
   "source": [
    "Now we will export a copy of the data before applying additional transformations."
   ]
  },
  {
   "cell_type": "code",
   "execution_count": 26,
   "id": "6de8f03d",
   "metadata": {},
   "outputs": [],
   "source": [
    "flight_df_clean.to_csv('FlightDelaysTrainingData.csv')"
   ]
  },
  {
   "cell_type": "markdown",
   "id": "b97cf13d",
   "metadata": {},
   "source": [
    "# Data Exploration with Pivot Tables"
   ]
  },
  {
   "cell_type": "markdown",
   "id": "106d28de",
   "metadata": {},
   "source": [
    "Here we create a pivot table to show average distance by carrier and flight origin."
   ]
  },
  {
   "cell_type": "code",
   "execution_count": 27,
   "id": "907965cb",
   "metadata": {},
   "outputs": [],
   "source": [
    "average_distance_by_carrier_origin = pd.pivot_table(flight_df_clean, values = 'DISTANCE', #specifies numeric values\n",
    "                                              index='CARRIER', # aggregates values by row\n",
    "                                              columns ='ORIGIN', # aggregates values by column\n",
    "                                              aggfunc=np.mean, # apply aggregation function\n",
    "                                              fill_value=0)"
   ]
  },
  {
   "cell_type": "markdown",
   "id": "3d126d1c",
   "metadata": {},
   "source": [
    "Now we display the pivot table."
   ]
  },
  {
   "cell_type": "code",
   "execution_count": 28,
   "id": "0369edd3",
   "metadata": {},
   "outputs": [
    {
     "data": {
      "text/html": [
       "<div>\n",
       "<style scoped>\n",
       "    .dataframe tbody tr th:only-of-type {\n",
       "        vertical-align: middle;\n",
       "    }\n",
       "\n",
       "    .dataframe tbody tr th {\n",
       "        vertical-align: top;\n",
       "    }\n",
       "\n",
       "    .dataframe thead th {\n",
       "        text-align: right;\n",
       "    }\n",
       "</style>\n",
       "<table border=\"1\" class=\"dataframe\">\n",
       "  <thead>\n",
       "    <tr style=\"text-align: right;\">\n",
       "      <th>ORIGIN</th>\n",
       "      <th>BWI</th>\n",
       "      <th>DCA</th>\n",
       "      <th>IAD</th>\n",
       "    </tr>\n",
       "    <tr>\n",
       "      <th>CARRIER</th>\n",
       "      <th></th>\n",
       "      <th></th>\n",
       "      <th></th>\n",
       "    </tr>\n",
       "  </thead>\n",
       "  <tbody>\n",
       "    <tr>\n",
       "      <th>CO</th>\n",
       "      <td>0</td>\n",
       "      <td>199.000000</td>\n",
       "      <td>0.000000</td>\n",
       "    </tr>\n",
       "    <tr>\n",
       "      <th>DH</th>\n",
       "      <td>0</td>\n",
       "      <td>213.000000</td>\n",
       "      <td>223.627863</td>\n",
       "    </tr>\n",
       "    <tr>\n",
       "      <th>DL</th>\n",
       "      <td>0</td>\n",
       "      <td>213.920103</td>\n",
       "      <td>0.000000</td>\n",
       "    </tr>\n",
       "    <tr>\n",
       "      <th>MQ</th>\n",
       "      <td>0</td>\n",
       "      <td>213.691525</td>\n",
       "      <td>0.000000</td>\n",
       "    </tr>\n",
       "    <tr>\n",
       "      <th>OH</th>\n",
       "      <td>184</td>\n",
       "      <td>0.000000</td>\n",
       "      <td>0.000000</td>\n",
       "    </tr>\n",
       "    <tr>\n",
       "      <th>RU</th>\n",
       "      <td>169</td>\n",
       "      <td>199.000000</td>\n",
       "      <td>213.000000</td>\n",
       "    </tr>\n",
       "    <tr>\n",
       "      <th>UA</th>\n",
       "      <td>0</td>\n",
       "      <td>0.000000</td>\n",
       "      <td>229.000000</td>\n",
       "    </tr>\n",
       "    <tr>\n",
       "      <th>US</th>\n",
       "      <td>0</td>\n",
       "      <td>214.000000</td>\n",
       "      <td>0.000000</td>\n",
       "    </tr>\n",
       "  </tbody>\n",
       "</table>\n",
       "</div>"
      ],
      "text/plain": [
       "ORIGIN   BWI         DCA         IAD\n",
       "CARRIER                             \n",
       "CO         0  199.000000    0.000000\n",
       "DH         0  213.000000  223.627863\n",
       "DL         0  213.920103    0.000000\n",
       "MQ         0  213.691525    0.000000\n",
       "OH       184    0.000000    0.000000\n",
       "RU       169  199.000000  213.000000\n",
       "UA         0    0.000000  229.000000\n",
       "US         0  214.000000    0.000000"
      ]
     },
     "execution_count": 28,
     "metadata": {},
     "output_type": "execute_result"
    }
   ],
   "source": [
    "average_distance_by_carrier_origin"
   ]
  },
  {
   "cell_type": "markdown",
   "id": "c09eb404",
   "metadata": {},
   "source": [
    "We create a csv file called \"FlightDelaysDataExploration\" to store the results of our pivot tables. The first line creates the file, while the second line ensures we write a title for the pivot table with some spaces for clarity. The last line appends the actual pivot table to the csv file.  \n",
    "\n",
    "*Please note that you should not have the file with the same name open when attempting to write or append to that file.*"
   ]
  },
  {
   "cell_type": "code",
   "execution_count": 29,
   "id": "1636b567",
   "metadata": {},
   "outputs": [],
   "source": [
    "with open('FlightDelaysDataExploration.csv', 'w') as f:\n",
    "    f.write('\\nAverage Distance By Carrier and Origin\\n\\n')\n",
    "average_distance_by_carrier_origin.to_csv(\"FlightDelaysDataExploration.csv\", mode='a')"
   ]
  },
  {
   "cell_type": "markdown",
   "id": "e34ca9a4",
   "metadata": {},
   "source": [
    "Pivot table for average distance by flight status."
   ]
  },
  {
   "cell_type": "code",
   "execution_count": 30,
   "id": "33fd1cde",
   "metadata": {},
   "outputs": [],
   "source": [
    "average_distance_by_status = pd.pivot_table(flight_df_clean, values = 'DISTANCE', \n",
    "                                              index='Flight Status',\n",
    "                                              aggfunc=np.mean,\n",
    "                                              fill_value=0)"
   ]
  },
  {
   "cell_type": "markdown",
   "id": "e413f1c0",
   "metadata": {},
   "source": [
    "Displaying the result."
   ]
  },
  {
   "cell_type": "code",
   "execution_count": 31,
   "id": "b11e8cb0",
   "metadata": {},
   "outputs": [
    {
     "data": {
      "text/html": [
       "<div>\n",
       "<style scoped>\n",
       "    .dataframe tbody tr th:only-of-type {\n",
       "        vertical-align: middle;\n",
       "    }\n",
       "\n",
       "    .dataframe tbody tr th {\n",
       "        vertical-align: top;\n",
       "    }\n",
       "\n",
       "    .dataframe thead th {\n",
       "        text-align: right;\n",
       "    }\n",
       "</style>\n",
       "<table border=\"1\" class=\"dataframe\">\n",
       "  <thead>\n",
       "    <tr style=\"text-align: right;\">\n",
       "      <th></th>\n",
       "      <th>DISTANCE</th>\n",
       "    </tr>\n",
       "    <tr>\n",
       "      <th>Flight Status</th>\n",
       "      <th></th>\n",
       "    </tr>\n",
       "  </thead>\n",
       "  <tbody>\n",
       "    <tr>\n",
       "      <th>delayed</th>\n",
       "      <td>211.362150</td>\n",
       "    </tr>\n",
       "    <tr>\n",
       "      <th>ontime</th>\n",
       "      <td>212.010158</td>\n",
       "    </tr>\n",
       "  </tbody>\n",
       "</table>\n",
       "</div>"
      ],
      "text/plain": [
       "                 DISTANCE\n",
       "Flight Status            \n",
       "delayed        211.362150\n",
       "ontime         212.010158"
      ]
     },
     "execution_count": 31,
     "metadata": {},
     "output_type": "execute_result"
    }
   ],
   "source": [
    "average_distance_by_status"
   ]
  },
  {
   "cell_type": "markdown",
   "id": "fc821a22",
   "metadata": {},
   "source": [
    "Appending a title and the pivot table itself to the data exploration file."
   ]
  },
  {
   "cell_type": "code",
   "execution_count": 32,
   "id": "e244a2a3",
   "metadata": {},
   "outputs": [],
   "source": [
    "with open('FlightDelaysDataExploration.csv', 'a') as f:\n",
    "    f.write('\\nAverage Distance By Status\\n\\n')\n",
    "average_distance_by_status.to_csv(\"FlightDelaysDataExploration.csv\", mode='a')"
   ]
  },
  {
   "cell_type": "markdown",
   "id": "8f440dcf",
   "metadata": {},
   "source": [
    "Creating a pivot table for the total distance by carrier and flight status."
   ]
  },
  {
   "cell_type": "code",
   "execution_count": 33,
   "id": "d1268b74",
   "metadata": {},
   "outputs": [],
   "source": [
    "sum_distance_carrier_status = pd.pivot_table(flight_df_clean, values = 'DISTANCE', \n",
    "                                              index='CARRIER',\n",
    "                                              columns='Flight Status',\n",
    "                                              aggfunc=np.sum,\n",
    "                                              fill_value=0)"
   ]
  },
  {
   "cell_type": "markdown",
   "id": "606f74cb",
   "metadata": {},
   "source": [
    "Displaying the result."
   ]
  },
  {
   "cell_type": "code",
   "execution_count": 34,
   "id": "22e42fc4",
   "metadata": {},
   "outputs": [
    {
     "data": {
      "text/html": [
       "<div>\n",
       "<style scoped>\n",
       "    .dataframe tbody tr th:only-of-type {\n",
       "        vertical-align: middle;\n",
       "    }\n",
       "\n",
       "    .dataframe tbody tr th {\n",
       "        vertical-align: top;\n",
       "    }\n",
       "\n",
       "    .dataframe thead th {\n",
       "        text-align: right;\n",
       "    }\n",
       "</style>\n",
       "<table border=\"1\" class=\"dataframe\">\n",
       "  <thead>\n",
       "    <tr style=\"text-align: right;\">\n",
       "      <th>Flight Status</th>\n",
       "      <th>delayed</th>\n",
       "      <th>ontime</th>\n",
       "    </tr>\n",
       "    <tr>\n",
       "      <th>CARRIER</th>\n",
       "      <th></th>\n",
       "      <th></th>\n",
       "    </tr>\n",
       "  </thead>\n",
       "  <tbody>\n",
       "    <tr>\n",
       "      <th>CO</th>\n",
       "      <td>5174</td>\n",
       "      <td>13532</td>\n",
       "    </tr>\n",
       "    <tr>\n",
       "      <th>DH</th>\n",
       "      <td>30597</td>\n",
       "      <td>92335</td>\n",
       "    </tr>\n",
       "    <tr>\n",
       "      <th>DL</th>\n",
       "      <td>10043</td>\n",
       "      <td>72958</td>\n",
       "    </tr>\n",
       "    <tr>\n",
       "      <th>MQ</th>\n",
       "      <td>17100</td>\n",
       "      <td>45939</td>\n",
       "    </tr>\n",
       "    <tr>\n",
       "      <th>OH</th>\n",
       "      <td>736</td>\n",
       "      <td>4600</td>\n",
       "    </tr>\n",
       "    <tr>\n",
       "      <th>RU</th>\n",
       "      <td>18178</td>\n",
       "      <td>61398</td>\n",
       "    </tr>\n",
       "    <tr>\n",
       "      <th>UA</th>\n",
       "      <td>1145</td>\n",
       "      <td>5954</td>\n",
       "    </tr>\n",
       "    <tr>\n",
       "      <th>US</th>\n",
       "      <td>7490</td>\n",
       "      <td>78966</td>\n",
       "    </tr>\n",
       "  </tbody>\n",
       "</table>\n",
       "</div>"
      ],
      "text/plain": [
       "Flight Status  delayed  ontime\n",
       "CARRIER                       \n",
       "CO                5174   13532\n",
       "DH               30597   92335\n",
       "DL               10043   72958\n",
       "MQ               17100   45939\n",
       "OH                 736    4600\n",
       "RU               18178   61398\n",
       "UA                1145    5954\n",
       "US                7490   78966"
      ]
     },
     "execution_count": 34,
     "metadata": {},
     "output_type": "execute_result"
    }
   ],
   "source": [
    "sum_distance_carrier_status"
   ]
  },
  {
   "cell_type": "markdown",
   "id": "e7fda910",
   "metadata": {},
   "source": [
    "Appending a title and the pivot table to the data exploration file."
   ]
  },
  {
   "cell_type": "code",
   "execution_count": 35,
   "id": "2e593858",
   "metadata": {},
   "outputs": [],
   "source": [
    "with open('FlightDelaysDataExploration.csv', 'a') as f:\n",
    "    f.write('\\nTotal Distance By Carrier and Status\\n\\n')\n",
    "sum_distance_carrier_status.to_csv(\"FlightDelaysDataExploration.csv\", mode='a')"
   ]
  },
  {
   "cell_type": "markdown",
   "id": "708d11a5",
   "metadata": {},
   "source": [
    "Creating a pivot table for the median time by carrier and flight status."
   ]
  },
  {
   "cell_type": "code",
   "execution_count": 36,
   "id": "50c2e28d",
   "metadata": {},
   "outputs": [],
   "source": [
    "median_time_carrier_status = pd.pivot_table(flight_df_clean, values = 'DEP_TIME', \n",
    "                                              index='CARRIER',\n",
    "                                              columns='Flight Status',\n",
    "                                              aggfunc=np.median,\n",
    "                                              fill_value=0)"
   ]
  },
  {
   "cell_type": "markdown",
   "id": "bb9eb7f4",
   "metadata": {},
   "source": [
    "Displaying the result."
   ]
  },
  {
   "cell_type": "code",
   "execution_count": 37,
   "id": "7553825d",
   "metadata": {},
   "outputs": [
    {
     "data": {
      "text/html": [
       "<div>\n",
       "<style scoped>\n",
       "    .dataframe tbody tr th:only-of-type {\n",
       "        vertical-align: middle;\n",
       "    }\n",
       "\n",
       "    .dataframe tbody tr th {\n",
       "        vertical-align: top;\n",
       "    }\n",
       "\n",
       "    .dataframe thead th {\n",
       "        text-align: right;\n",
       "    }\n",
       "</style>\n",
       "<table border=\"1\" class=\"dataframe\">\n",
       "  <thead>\n",
       "    <tr style=\"text-align: right;\">\n",
       "      <th>Flight Status</th>\n",
       "      <th>delayed</th>\n",
       "      <th>ontime</th>\n",
       "    </tr>\n",
       "    <tr>\n",
       "      <th>CARRIER</th>\n",
       "      <th></th>\n",
       "      <th></th>\n",
       "    </tr>\n",
       "  </thead>\n",
       "  <tbody>\n",
       "    <tr>\n",
       "      <th>CO</th>\n",
       "      <td>1813.0</td>\n",
       "      <td>1256</td>\n",
       "    </tr>\n",
       "    <tr>\n",
       "      <th>DH</th>\n",
       "      <td>1608.0</td>\n",
       "      <td>1455</td>\n",
       "    </tr>\n",
       "    <tr>\n",
       "      <th>DL</th>\n",
       "      <td>1511.0</td>\n",
       "      <td>1428</td>\n",
       "    </tr>\n",
       "    <tr>\n",
       "      <th>MQ</th>\n",
       "      <td>1602.0</td>\n",
       "      <td>1313</td>\n",
       "    </tr>\n",
       "    <tr>\n",
       "      <th>OH</th>\n",
       "      <td>1607.5</td>\n",
       "      <td>1455</td>\n",
       "    </tr>\n",
       "    <tr>\n",
       "      <th>RU</th>\n",
       "      <td>1556.0</td>\n",
       "      <td>1381</td>\n",
       "    </tr>\n",
       "    <tr>\n",
       "      <th>UA</th>\n",
       "      <td>955.0</td>\n",
       "      <td>848</td>\n",
       "    </tr>\n",
       "    <tr>\n",
       "      <th>US</th>\n",
       "      <td>1555.0</td>\n",
       "      <td>1300</td>\n",
       "    </tr>\n",
       "  </tbody>\n",
       "</table>\n",
       "</div>"
      ],
      "text/plain": [
       "Flight Status  delayed  ontime\n",
       "CARRIER                       \n",
       "CO              1813.0    1256\n",
       "DH              1608.0    1455\n",
       "DL              1511.0    1428\n",
       "MQ              1602.0    1313\n",
       "OH              1607.5    1455\n",
       "RU              1556.0    1381\n",
       "UA               955.0     848\n",
       "US              1555.0    1300"
      ]
     },
     "execution_count": 37,
     "metadata": {},
     "output_type": "execute_result"
    }
   ],
   "source": [
    "median_time_carrier_status"
   ]
  },
  {
   "cell_type": "markdown",
   "id": "4d371ab7",
   "metadata": {},
   "source": [
    "Appending the title and pivot table to the data exploration file."
   ]
  },
  {
   "cell_type": "code",
   "execution_count": 38,
   "id": "ee036e53",
   "metadata": {},
   "outputs": [],
   "source": [
    "with open('FlightDelaysDataExploration.csv', 'a') as f:\n",
    "    f.write('\\nMedian Time By Carrier and Flight Status\\n\\n')\n",
    "median_time_carrier_status.to_csv(\"FlightDelaysDataExploration.csv\", mode='a')"
   ]
  },
  {
   "cell_type": "markdown",
   "id": "0216aec7",
   "metadata": {},
   "source": [
    "Ordinarily, we would convert the departure time to a datetime format. However, we intend to bin all integer values to ensure that the Naive Bayes algorithm will work. Therefore, this would be redundant. With respect to the distance column, since there are only 7 unique values, we can simply convert the integers to categorical values. However, the departure times are too varied to retain each unique value as categorical so we will bin the values. We will additionally bin DAY_OF_MONTH as well."
   ]
  },
  {
   "cell_type": "markdown",
   "id": "48a9fc83",
   "metadata": {},
   "source": [
    "Changing the data types of distance, weather and day of week to categorical."
   ]
  },
  {
   "cell_type": "code",
   "execution_count": 39,
   "id": "d349c7e3",
   "metadata": {},
   "outputs": [],
   "source": [
    "flight_df_clean['DISTANCE'] = flight_df_clean['DISTANCE'].astype(\"category\")"
   ]
  },
  {
   "cell_type": "code",
   "execution_count": 40,
   "id": "85c8f158",
   "metadata": {},
   "outputs": [],
   "source": [
    "flight_df_clean['Weather'] = flight_df_clean['Weather'].astype(\"category\")"
   ]
  },
  {
   "cell_type": "code",
   "execution_count": 41,
   "id": "603fa3f7",
   "metadata": {},
   "outputs": [],
   "source": [
    "flight_df_clean['DAY_WEEK'] = flight_df_clean['DAY_WEEK'].astype(\"category\")"
   ]
  },
  {
   "cell_type": "markdown",
   "id": "2871da06",
   "metadata": {},
   "source": [
    "Setting bins for departure time."
   ]
  },
  {
   "cell_type": "code",
   "execution_count": 42,
   "id": "7a31206d",
   "metadata": {},
   "outputs": [],
   "source": [
    "bins = [0, 600, 1200, 1800, 2400]\n",
    "labels = ['Early Morning', 'Morning', 'Afternoon', 'Evening']"
   ]
  },
  {
   "cell_type": "markdown",
   "id": "ba4b1d99",
   "metadata": {},
   "source": [
    "Applying bins to dataset."
   ]
  },
  {
   "cell_type": "code",
   "execution_count": 43,
   "id": "f5a1cf34",
   "metadata": {},
   "outputs": [],
   "source": [
    "flight_df_clean['Departure_Time_Interval'] = pd.cut(x = flight_df_clean['DEP_TIME'], bins = bins, labels = labels, include_lowest = True)"
   ]
  },
  {
   "cell_type": "markdown",
   "id": "3ffce2b9",
   "metadata": {},
   "source": [
    "Setting bins for days of the month."
   ]
  },
  {
   "cell_type": "code",
   "execution_count": 44,
   "id": "93333f62",
   "metadata": {},
   "outputs": [],
   "source": [
    "bins = [1, 7, 14, 21, 31]\n",
    "labels = ['1 to 7', '8 to 14', '16 to 21', '22 onwards']"
   ]
  },
  {
   "cell_type": "markdown",
   "id": "f869a220",
   "metadata": {},
   "source": [
    "Applying bins to the dataset."
   ]
  },
  {
   "cell_type": "code",
   "execution_count": 45,
   "id": "06a74874",
   "metadata": {},
   "outputs": [],
   "source": [
    "flight_df_clean['Days_of_Month'] = pd.cut(x = flight_df_clean['DAY_OF_MONTH'], bins = bins, labels = labels, include_lowest = True)"
   ]
  },
  {
   "cell_type": "markdown",
   "id": "a0632413",
   "metadata": {},
   "source": [
    "Checking the dataset to ensure the transformations were applied."
   ]
  },
  {
   "cell_type": "code",
   "execution_count": 46,
   "id": "66aeb863",
   "metadata": {},
   "outputs": [
    {
     "data": {
      "text/html": [
       "<div>\n",
       "<style scoped>\n",
       "    .dataframe tbody tr th:only-of-type {\n",
       "        vertical-align: middle;\n",
       "    }\n",
       "\n",
       "    .dataframe tbody tr th {\n",
       "        vertical-align: top;\n",
       "    }\n",
       "\n",
       "    .dataframe thead th {\n",
       "        text-align: right;\n",
       "    }\n",
       "</style>\n",
       "<table border=\"1\" class=\"dataframe\">\n",
       "  <thead>\n",
       "    <tr style=\"text-align: right;\">\n",
       "      <th></th>\n",
       "      <th>CARRIER</th>\n",
       "      <th>DEP_TIME</th>\n",
       "      <th>DEST</th>\n",
       "      <th>DISTANCE</th>\n",
       "      <th>ORIGIN</th>\n",
       "      <th>Weather</th>\n",
       "      <th>DAY_WEEK</th>\n",
       "      <th>DAY_OF_MONTH</th>\n",
       "      <th>Flight Status</th>\n",
       "      <th>Departure_Time_Interval</th>\n",
       "      <th>Days_of_Month</th>\n",
       "    </tr>\n",
       "  </thead>\n",
       "  <tbody>\n",
       "    <tr>\n",
       "      <th>1</th>\n",
       "      <td>DH</td>\n",
       "      <td>1640</td>\n",
       "      <td>JFK</td>\n",
       "      <td>213</td>\n",
       "      <td>DCA</td>\n",
       "      <td>0</td>\n",
       "      <td>4</td>\n",
       "      <td>1</td>\n",
       "      <td>ontime</td>\n",
       "      <td>Afternoon</td>\n",
       "      <td>1 to 7</td>\n",
       "    </tr>\n",
       "    <tr>\n",
       "      <th>2</th>\n",
       "      <td>DH</td>\n",
       "      <td>1245</td>\n",
       "      <td>LGA</td>\n",
       "      <td>229</td>\n",
       "      <td>IAD</td>\n",
       "      <td>0</td>\n",
       "      <td>4</td>\n",
       "      <td>1</td>\n",
       "      <td>ontime</td>\n",
       "      <td>Afternoon</td>\n",
       "      <td>1 to 7</td>\n",
       "    </tr>\n",
       "    <tr>\n",
       "      <th>3</th>\n",
       "      <td>DH</td>\n",
       "      <td>1709</td>\n",
       "      <td>LGA</td>\n",
       "      <td>229</td>\n",
       "      <td>IAD</td>\n",
       "      <td>0</td>\n",
       "      <td>4</td>\n",
       "      <td>1</td>\n",
       "      <td>ontime</td>\n",
       "      <td>Afternoon</td>\n",
       "      <td>1 to 7</td>\n",
       "    </tr>\n",
       "    <tr>\n",
       "      <th>4</th>\n",
       "      <td>DH</td>\n",
       "      <td>1035</td>\n",
       "      <td>LGA</td>\n",
       "      <td>229</td>\n",
       "      <td>IAD</td>\n",
       "      <td>0</td>\n",
       "      <td>4</td>\n",
       "      <td>1</td>\n",
       "      <td>ontime</td>\n",
       "      <td>Morning</td>\n",
       "      <td>1 to 7</td>\n",
       "    </tr>\n",
       "    <tr>\n",
       "      <th>5</th>\n",
       "      <td>DH</td>\n",
       "      <td>839</td>\n",
       "      <td>JFK</td>\n",
       "      <td>228</td>\n",
       "      <td>IAD</td>\n",
       "      <td>0</td>\n",
       "      <td>4</td>\n",
       "      <td>1</td>\n",
       "      <td>ontime</td>\n",
       "      <td>Morning</td>\n",
       "      <td>1 to 7</td>\n",
       "    </tr>\n",
       "  </tbody>\n",
       "</table>\n",
       "</div>"
      ],
      "text/plain": [
       "  CARRIER  DEP_TIME DEST DISTANCE ORIGIN Weather DAY_WEEK  DAY_OF_MONTH  \\\n",
       "1      DH      1640  JFK      213    DCA       0        4             1   \n",
       "2      DH      1245  LGA      229    IAD       0        4             1   \n",
       "3      DH      1709  LGA      229    IAD       0        4             1   \n",
       "4      DH      1035  LGA      229    IAD       0        4             1   \n",
       "5      DH       839  JFK      228    IAD       0        4             1   \n",
       "\n",
       "  Flight Status Departure_Time_Interval Days_of_Month  \n",
       "1        ontime               Afternoon        1 to 7  \n",
       "2        ontime               Afternoon        1 to 7  \n",
       "3        ontime               Afternoon        1 to 7  \n",
       "4        ontime                 Morning        1 to 7  \n",
       "5        ontime                 Morning        1 to 7  "
      ]
     },
     "execution_count": 46,
     "metadata": {},
     "output_type": "execute_result"
    }
   ],
   "source": [
    "flight_df_clean.head()"
   ]
  },
  {
   "cell_type": "markdown",
   "id": "ee68b6c9",
   "metadata": {},
   "source": [
    "Now that we have categorical versions of departure time and day of the month, we can drop the original columns."
   ]
  },
  {
   "cell_type": "code",
   "execution_count": 47,
   "id": "826c3d69",
   "metadata": {},
   "outputs": [],
   "source": [
    "flight_df_clean = flight_df_clean.drop(columns=['DEP_TIME', 'DAY_OF_MONTH'])"
   ]
  },
  {
   "cell_type": "code",
   "execution_count": 48,
   "id": "df113708",
   "metadata": {},
   "outputs": [
    {
     "data": {
      "text/html": [
       "<div>\n",
       "<style scoped>\n",
       "    .dataframe tbody tr th:only-of-type {\n",
       "        vertical-align: middle;\n",
       "    }\n",
       "\n",
       "    .dataframe tbody tr th {\n",
       "        vertical-align: top;\n",
       "    }\n",
       "\n",
       "    .dataframe thead th {\n",
       "        text-align: right;\n",
       "    }\n",
       "</style>\n",
       "<table border=\"1\" class=\"dataframe\">\n",
       "  <thead>\n",
       "    <tr style=\"text-align: right;\">\n",
       "      <th></th>\n",
       "      <th>CARRIER</th>\n",
       "      <th>DEST</th>\n",
       "      <th>DISTANCE</th>\n",
       "      <th>ORIGIN</th>\n",
       "      <th>Weather</th>\n",
       "      <th>DAY_WEEK</th>\n",
       "      <th>Flight Status</th>\n",
       "      <th>Departure_Time_Interval</th>\n",
       "      <th>Days_of_Month</th>\n",
       "    </tr>\n",
       "  </thead>\n",
       "  <tbody>\n",
       "    <tr>\n",
       "      <th>1</th>\n",
       "      <td>DH</td>\n",
       "      <td>JFK</td>\n",
       "      <td>213</td>\n",
       "      <td>DCA</td>\n",
       "      <td>0</td>\n",
       "      <td>4</td>\n",
       "      <td>ontime</td>\n",
       "      <td>Afternoon</td>\n",
       "      <td>1 to 7</td>\n",
       "    </tr>\n",
       "    <tr>\n",
       "      <th>2</th>\n",
       "      <td>DH</td>\n",
       "      <td>LGA</td>\n",
       "      <td>229</td>\n",
       "      <td>IAD</td>\n",
       "      <td>0</td>\n",
       "      <td>4</td>\n",
       "      <td>ontime</td>\n",
       "      <td>Afternoon</td>\n",
       "      <td>1 to 7</td>\n",
       "    </tr>\n",
       "    <tr>\n",
       "      <th>3</th>\n",
       "      <td>DH</td>\n",
       "      <td>LGA</td>\n",
       "      <td>229</td>\n",
       "      <td>IAD</td>\n",
       "      <td>0</td>\n",
       "      <td>4</td>\n",
       "      <td>ontime</td>\n",
       "      <td>Afternoon</td>\n",
       "      <td>1 to 7</td>\n",
       "    </tr>\n",
       "    <tr>\n",
       "      <th>4</th>\n",
       "      <td>DH</td>\n",
       "      <td>LGA</td>\n",
       "      <td>229</td>\n",
       "      <td>IAD</td>\n",
       "      <td>0</td>\n",
       "      <td>4</td>\n",
       "      <td>ontime</td>\n",
       "      <td>Morning</td>\n",
       "      <td>1 to 7</td>\n",
       "    </tr>\n",
       "    <tr>\n",
       "      <th>5</th>\n",
       "      <td>DH</td>\n",
       "      <td>JFK</td>\n",
       "      <td>228</td>\n",
       "      <td>IAD</td>\n",
       "      <td>0</td>\n",
       "      <td>4</td>\n",
       "      <td>ontime</td>\n",
       "      <td>Morning</td>\n",
       "      <td>1 to 7</td>\n",
       "    </tr>\n",
       "  </tbody>\n",
       "</table>\n",
       "</div>"
      ],
      "text/plain": [
       "  CARRIER DEST DISTANCE ORIGIN Weather DAY_WEEK Flight Status  \\\n",
       "1      DH  JFK      213    DCA       0        4        ontime   \n",
       "2      DH  LGA      229    IAD       0        4        ontime   \n",
       "3      DH  LGA      229    IAD       0        4        ontime   \n",
       "4      DH  LGA      229    IAD       0        4        ontime   \n",
       "5      DH  JFK      228    IAD       0        4        ontime   \n",
       "\n",
       "  Departure_Time_Interval Days_of_Month  \n",
       "1               Afternoon        1 to 7  \n",
       "2               Afternoon        1 to 7  \n",
       "3               Afternoon        1 to 7  \n",
       "4                 Morning        1 to 7  \n",
       "5                 Morning        1 to 7  "
      ]
     },
     "execution_count": 48,
     "metadata": {},
     "output_type": "execute_result"
    }
   ],
   "source": [
    "flight_df_clean.head()"
   ]
  },
  {
   "cell_type": "markdown",
   "id": "a6f60b68",
   "metadata": {},
   "source": [
    "# Dealing with Class Imbalance"
   ]
  },
  {
   "cell_type": "code",
   "execution_count": 49,
   "id": "f4f71e9e",
   "metadata": {},
   "outputs": [
    {
     "data": {
      "text/plain": [
       "<AxesSubplot:xlabel='Flight Status', ylabel='Count'>"
      ]
     },
     "execution_count": 49,
     "metadata": {},
     "output_type": "execute_result"
    },
    {
     "data": {
      "image/png": "[encoded data removed]",
      "text/plain": [
       "<Figure size 432x288 with 1 Axes>"
      ]
     },
     "metadata": {
      "needs_background": "light"
     },
     "output_type": "display_data"
    }
   ],
   "source": [
    "sns.histplot(data = flight_df_clean, x = \"Flight Status\")"
   ]
  },
  {
   "cell_type": "markdown",
   "id": "2e698117",
   "metadata": {},
   "source": [
    "Here we can see that there is a class imbalance issue with our target variable, flight status. There are significantly more ontime records than delayed records. To prevent the dominance of the ontime records in our models, we will oversample from the delayed records to balance the dataset. Then we will proceed by evaluating models for both the unbalanced and balanced data to get the best model."
   ]
  },
  {
   "cell_type": "code",
   "execution_count": 50,
   "id": "a6138fc6",
   "metadata": {},
   "outputs": [],
   "source": [
    "y = flight_df_clean['Flight Status']\n",
    "X = flight_df_clean.drop(columns = ['Flight Status'])"
   ]
  },
  {
   "cell_type": "markdown",
   "id": "5305f63b",
   "metadata": {},
   "source": [
    "We apply the RandomOverSampler to the minority class (delayed) and check for class balance."
   ]
  },
  {
   "cell_type": "code",
   "execution_count": 51,
   "id": "29c35b25",
   "metadata": {},
   "outputs": [
    {
     "data": {
      "text/plain": [
       "ontime     1772\n",
       "delayed    1772\n",
       "Name: Flight Status, dtype: int64"
      ]
     },
     "execution_count": 51,
     "metadata": {},
     "output_type": "execute_result"
    }
   ],
   "source": [
    "over_sample = RandomOverSampler(sampling_strategy  = 'all')\n",
    "X_over, y_over = over_sample.fit_resample(X, y)\n",
    "y_values = pd.Series(y_over)\n",
    "y_values.value_counts()"
   ]
  },
  {
   "cell_type": "code",
   "execution_count": 52,
   "id": "989ac76f",
   "metadata": {},
   "outputs": [
    {
     "data": {
      "text/html": [
       "<div>\n",
       "<style scoped>\n",
       "    .dataframe tbody tr th:only-of-type {\n",
       "        vertical-align: middle;\n",
       "    }\n",
       "\n",
       "    .dataframe tbody tr th {\n",
       "        vertical-align: top;\n",
       "    }\n",
       "\n",
       "    .dataframe thead th {\n",
       "        text-align: right;\n",
       "    }\n",
       "</style>\n",
       "<table border=\"1\" class=\"dataframe\">\n",
       "  <thead>\n",
       "    <tr style=\"text-align: right;\">\n",
       "      <th></th>\n",
       "      <th>CARRIER</th>\n",
       "      <th>DEST</th>\n",
       "      <th>DISTANCE</th>\n",
       "      <th>ORIGIN</th>\n",
       "      <th>Weather</th>\n",
       "      <th>DAY_WEEK</th>\n",
       "      <th>Departure_Time_Interval</th>\n",
       "      <th>Days_of_Month</th>\n",
       "    </tr>\n",
       "  </thead>\n",
       "  <tbody>\n",
       "    <tr>\n",
       "      <th>0</th>\n",
       "      <td>DH</td>\n",
       "      <td>JFK</td>\n",
       "      <td>213</td>\n",
       "      <td>DCA</td>\n",
       "      <td>0</td>\n",
       "      <td>4</td>\n",
       "      <td>Afternoon</td>\n",
       "      <td>1 to 7</td>\n",
       "    </tr>\n",
       "    <tr>\n",
       "      <th>1</th>\n",
       "      <td>DH</td>\n",
       "      <td>LGA</td>\n",
       "      <td>229</td>\n",
       "      <td>IAD</td>\n",
       "      <td>0</td>\n",
       "      <td>4</td>\n",
       "      <td>Afternoon</td>\n",
       "      <td>1 to 7</td>\n",
       "    </tr>\n",
       "    <tr>\n",
       "      <th>2</th>\n",
       "      <td>DH</td>\n",
       "      <td>LGA</td>\n",
       "      <td>229</td>\n",
       "      <td>IAD</td>\n",
       "      <td>0</td>\n",
       "      <td>4</td>\n",
       "      <td>Afternoon</td>\n",
       "      <td>1 to 7</td>\n",
       "    </tr>\n",
       "    <tr>\n",
       "      <th>3</th>\n",
       "      <td>DH</td>\n",
       "      <td>LGA</td>\n",
       "      <td>229</td>\n",
       "      <td>IAD</td>\n",
       "      <td>0</td>\n",
       "      <td>4</td>\n",
       "      <td>Morning</td>\n",
       "      <td>1 to 7</td>\n",
       "    </tr>\n",
       "    <tr>\n",
       "      <th>4</th>\n",
       "      <td>DH</td>\n",
       "      <td>JFK</td>\n",
       "      <td>228</td>\n",
       "      <td>IAD</td>\n",
       "      <td>0</td>\n",
       "      <td>4</td>\n",
       "      <td>Morning</td>\n",
       "      <td>1 to 7</td>\n",
       "    </tr>\n",
       "  </tbody>\n",
       "</table>\n",
       "</div>"
      ],
      "text/plain": [
       "  CARRIER DEST DISTANCE ORIGIN Weather DAY_WEEK Departure_Time_Interval  \\\n",
       "0      DH  JFK      213    DCA       0        4               Afternoon   \n",
       "1      DH  LGA      229    IAD       0        4               Afternoon   \n",
       "2      DH  LGA      229    IAD       0        4               Afternoon   \n",
       "3      DH  LGA      229    IAD       0        4                 Morning   \n",
       "4      DH  JFK      228    IAD       0        4                 Morning   \n",
       "\n",
       "  Days_of_Month  \n",
       "0        1 to 7  \n",
       "1        1 to 7  \n",
       "2        1 to 7  \n",
       "3        1 to 7  \n",
       "4        1 to 7  "
      ]
     },
     "execution_count": 52,
     "metadata": {},
     "output_type": "execute_result"
    }
   ],
   "source": [
    "X_over.head()"
   ]
  },
  {
   "cell_type": "code",
   "execution_count": 53,
   "id": "17739699",
   "metadata": {},
   "outputs": [
    {
     "data": {
      "text/plain": [
       "0    ontime\n",
       "1    ontime\n",
       "2    ontime\n",
       "3    ontime\n",
       "4    ontime\n",
       "Name: Flight Status, dtype: object"
      ]
     },
     "execution_count": 53,
     "metadata": {},
     "output_type": "execute_result"
    }
   ],
   "source": [
    "y_values.head()"
   ]
  },
  {
   "cell_type": "code",
   "execution_count": 54,
   "id": "3f64ca3c",
   "metadata": {},
   "outputs": [],
   "source": [
    "X_over = pd.get_dummies(X_over)"
   ]
  },
  {
   "cell_type": "markdown",
   "id": "4165d646",
   "metadata": {},
   "source": [
    "# Splitting the Data into Training, Validation and Test Sets"
   ]
  },
  {
   "cell_type": "markdown",
   "id": "14783ad3",
   "metadata": {},
   "source": [
    "Now that we have our balanced dataset, we do a train and test split."
   ]
  },
  {
   "cell_type": "code",
   "execution_count": 55,
   "id": "c5e30c4a",
   "metadata": {},
   "outputs": [],
   "source": [
    "train_X_over, Valid_X_over, train_y_over, valid_y_over = train_test_split(X_over, y_over, test_size=0.4, random_state = 42)"
   ]
  },
  {
   "cell_type": "markdown",
   "id": "aa7bfd59",
   "metadata": {},
   "source": [
    "We do the same for the original dataset."
   ]
  },
  {
   "cell_type": "code",
   "execution_count": 56,
   "id": "7fc5a898",
   "metadata": {},
   "outputs": [],
   "source": [
    "train_X, Valid_X, train_y, valid_y = train_test_split(X, y, test_size=0.4, random_state = 42)"
   ]
  },
  {
   "cell_type": "code",
   "execution_count": 57,
   "id": "f854cac4",
   "metadata": {},
   "outputs": [],
   "source": [
    "train_X = pd.get_dummies(train_X)\n",
    "Valid_X = pd.get_dummies(Valid_X)"
   ]
  },
  {
   "cell_type": "code",
   "execution_count": 58,
   "id": "2d9d580d",
   "metadata": {},
   "outputs": [
    {
     "data": {
      "text/html": [
       "<div>\n",
       "<style scoped>\n",
       "    .dataframe tbody tr th:only-of-type {\n",
       "        vertical-align: middle;\n",
       "    }\n",
       "\n",
       "    .dataframe tbody tr th {\n",
       "        vertical-align: top;\n",
       "    }\n",
       "\n",
       "    .dataframe thead th {\n",
       "        text-align: right;\n",
       "    }\n",
       "</style>\n",
       "<table border=\"1\" class=\"dataframe\">\n",
       "  <thead>\n",
       "    <tr style=\"text-align: right;\">\n",
       "      <th></th>\n",
       "      <th>CARRIER</th>\n",
       "      <th>DEST</th>\n",
       "      <th>DISTANCE</th>\n",
       "      <th>ORIGIN</th>\n",
       "      <th>Weather</th>\n",
       "      <th>DAY_WEEK</th>\n",
       "      <th>Departure_Time_Interval</th>\n",
       "      <th>Days_of_Month</th>\n",
       "    </tr>\n",
       "  </thead>\n",
       "  <tbody>\n",
       "    <tr>\n",
       "      <th>1</th>\n",
       "      <td>DH</td>\n",
       "      <td>JFK</td>\n",
       "      <td>213</td>\n",
       "      <td>DCA</td>\n",
       "      <td>0</td>\n",
       "      <td>4</td>\n",
       "      <td>Afternoon</td>\n",
       "      <td>1 to 7</td>\n",
       "    </tr>\n",
       "    <tr>\n",
       "      <th>2</th>\n",
       "      <td>DH</td>\n",
       "      <td>LGA</td>\n",
       "      <td>229</td>\n",
       "      <td>IAD</td>\n",
       "      <td>0</td>\n",
       "      <td>4</td>\n",
       "      <td>Afternoon</td>\n",
       "      <td>1 to 7</td>\n",
       "    </tr>\n",
       "    <tr>\n",
       "      <th>3</th>\n",
       "      <td>DH</td>\n",
       "      <td>LGA</td>\n",
       "      <td>229</td>\n",
       "      <td>IAD</td>\n",
       "      <td>0</td>\n",
       "      <td>4</td>\n",
       "      <td>Afternoon</td>\n",
       "      <td>1 to 7</td>\n",
       "    </tr>\n",
       "    <tr>\n",
       "      <th>4</th>\n",
       "      <td>DH</td>\n",
       "      <td>LGA</td>\n",
       "      <td>229</td>\n",
       "      <td>IAD</td>\n",
       "      <td>0</td>\n",
       "      <td>4</td>\n",
       "      <td>Morning</td>\n",
       "      <td>1 to 7</td>\n",
       "    </tr>\n",
       "    <tr>\n",
       "      <th>5</th>\n",
       "      <td>DH</td>\n",
       "      <td>JFK</td>\n",
       "      <td>228</td>\n",
       "      <td>IAD</td>\n",
       "      <td>0</td>\n",
       "      <td>4</td>\n",
       "      <td>Morning</td>\n",
       "      <td>1 to 7</td>\n",
       "    </tr>\n",
       "  </tbody>\n",
       "</table>\n",
       "</div>"
      ],
      "text/plain": [
       "  CARRIER DEST DISTANCE ORIGIN Weather DAY_WEEK Departure_Time_Interval  \\\n",
       "1      DH  JFK      213    DCA       0        4               Afternoon   \n",
       "2      DH  LGA      229    IAD       0        4               Afternoon   \n",
       "3      DH  LGA      229    IAD       0        4               Afternoon   \n",
       "4      DH  LGA      229    IAD       0        4                 Morning   \n",
       "5      DH  JFK      228    IAD       0        4                 Morning   \n",
       "\n",
       "  Days_of_Month  \n",
       "1        1 to 7  \n",
       "2        1 to 7  \n",
       "3        1 to 7  \n",
       "4        1 to 7  \n",
       "5        1 to 7  "
      ]
     },
     "execution_count": 58,
     "metadata": {},
     "output_type": "execute_result"
    }
   ],
   "source": [
    "X.head()"
   ]
  },
  {
   "cell_type": "markdown",
   "id": "14d0f31f",
   "metadata": {},
   "source": [
    "Finally, we want to create a sample of 5 records to test the models."
   ]
  },
  {
   "cell_type": "code",
   "execution_count": 59,
   "id": "486b3e65",
   "metadata": {},
   "outputs": [],
   "source": [
    "X = pd.get_dummies(X)"
   ]
  },
  {
   "cell_type": "code",
   "execution_count": 60,
   "id": "41e2fd88",
   "metadata": {},
   "outputs": [],
   "source": [
    "testing_df = pd.concat([X,y], axis=1)"
   ]
  },
  {
   "cell_type": "markdown",
   "id": "72cf9ea6",
   "metadata": {},
   "source": [
    "Here we randomly sample 5 records from the unbalanced dataframe to use as test records. This code will produce 5 random records each time."
   ]
  },
  {
   "cell_type": "code",
   "execution_count": 61,
   "id": "9f4e2ac9",
   "metadata": {},
   "outputs": [],
   "source": [
    "testing_sample = testing_df.sample(5, random_state=42)"
   ]
  },
  {
   "cell_type": "markdown",
   "id": "7ca0cd7f",
   "metadata": {},
   "source": [
    "Exporting a copy of the test sample to a csv file."
   ]
  },
  {
   "cell_type": "code",
   "execution_count": 62,
   "id": "3b3609c1",
   "metadata": {},
   "outputs": [],
   "source": [
    "testing_sample.to_csv('FlightDelaysTestingData.csv')"
   ]
  },
  {
   "cell_type": "markdown",
   "id": "fc9b22b0",
   "metadata": {},
   "source": [
    "Splitting the test data into predictors (x_test) and target variable (y_test)."
   ]
  },
  {
   "cell_type": "code",
   "execution_count": 63,
   "id": "e5c621fc",
   "metadata": {},
   "outputs": [],
   "source": [
    "y_test = testing_sample['Flight Status']\n",
    "x_test = testing_sample.drop(columns=['Flight Status'])"
   ]
  },
  {
   "cell_type": "code",
   "execution_count": 64,
   "id": "923eaf7b",
   "metadata": {},
   "outputs": [],
   "source": [
    "x_test = pd.get_dummies(x_test)"
   ]
  },
  {
   "cell_type": "markdown",
   "id": "e61a0c49",
   "metadata": {},
   "source": [
    "We will begin with training and evaluating our models for balanced and unbalanced data, starting with Naive Bayes."
   ]
  },
  {
   "cell_type": "markdown",
   "id": "8987866f",
   "metadata": {},
   "source": [
    "# Naive Bayes - Balanced Data"
   ]
  },
  {
   "cell_type": "markdown",
   "id": "755001e8",
   "metadata": {},
   "source": [
    "Train the model."
   ]
  },
  {
   "cell_type": "code",
   "execution_count": 65,
   "id": "ea220918",
   "metadata": {},
   "outputs": [
    {
     "data": {
      "text/plain": [
       "MultinomialNB(alpha=0.01)"
      ]
     },
     "execution_count": 65,
     "metadata": {},
     "output_type": "execute_result"
    }
   ],
   "source": [
    "X_over_nb = MultinomialNB(alpha=0.01) \n",
    "X_over_nb.fit(train_X_over, train_y_over)"
   ]
  },
  {
   "cell_type": "markdown",
   "id": "bd5f61ca",
   "metadata": {},
   "source": [
    "Predict the probabilities."
   ]
  },
  {
   "cell_type": "code",
   "execution_count": 66,
   "id": "34636f03",
   "metadata": {},
   "outputs": [],
   "source": [
    "predProb_train = X_over_nb.predict_proba(train_X_over) \n",
    "predProb_valid = X_over_nb.predict_proba(Valid_X_over)"
   ]
  },
  {
   "cell_type": "markdown",
   "id": "ab2d37db",
   "metadata": {},
   "source": [
    "Predict class membership (show class instead of probability by selecting the class with the highest probability)"
   ]
  },
  {
   "cell_type": "code",
   "execution_count": 67,
   "id": "37895fb9",
   "metadata": {},
   "outputs": [],
   "source": [
    "y_valid_pred = X_over_nb.predict(Valid_X_over)\n",
    "y_train_pred = X_over_nb.predict(train_X_over)"
   ]
  },
  {
   "cell_type": "markdown",
   "id": "3cca545d",
   "metadata": {},
   "source": [
    "Use the model to predict a new datapoint."
   ]
  },
  {
   "cell_type": "code",
   "execution_count": 68,
   "id": "4317c3b8",
   "metadata": {},
   "outputs": [
    {
     "data": {
      "text/html": [
       "<div>\n",
       "<style scoped>\n",
       "    .dataframe tbody tr th:only-of-type {\n",
       "        vertical-align: middle;\n",
       "    }\n",
       "\n",
       "    .dataframe tbody tr th {\n",
       "        vertical-align: top;\n",
       "    }\n",
       "\n",
       "    .dataframe thead th {\n",
       "        text-align: right;\n",
       "    }\n",
       "</style>\n",
       "<table border=\"1\" class=\"dataframe\">\n",
       "  <thead>\n",
       "    <tr style=\"text-align: right;\">\n",
       "      <th></th>\n",
       "      <th>CARRIER_CO</th>\n",
       "      <th>CARRIER_DH</th>\n",
       "      <th>CARRIER_DL</th>\n",
       "      <th>CARRIER_MQ</th>\n",
       "      <th>CARRIER_OH</th>\n",
       "      <th>CARRIER_RU</th>\n",
       "      <th>CARRIER_UA</th>\n",
       "      <th>CARRIER_US</th>\n",
       "      <th>DEST_EWR</th>\n",
       "      <th>DEST_JFK</th>\n",
       "      <th>...</th>\n",
       "      <th>DAY_WEEK_6</th>\n",
       "      <th>DAY_WEEK_7</th>\n",
       "      <th>Departure_Time_Interval_Early Morning</th>\n",
       "      <th>Departure_Time_Interval_Morning</th>\n",
       "      <th>Departure_Time_Interval_Afternoon</th>\n",
       "      <th>Departure_Time_Interval_Evening</th>\n",
       "      <th>Days_of_Month_1 to 7</th>\n",
       "      <th>Days_of_Month_8 to 14</th>\n",
       "      <th>Days_of_Month_16 to 21</th>\n",
       "      <th>Days_of_Month_22 onwards</th>\n",
       "    </tr>\n",
       "  </thead>\n",
       "  <tbody>\n",
       "    <tr>\n",
       "      <th>2210</th>\n",
       "      <td>0</td>\n",
       "      <td>1</td>\n",
       "      <td>0</td>\n",
       "      <td>0</td>\n",
       "      <td>0</td>\n",
       "      <td>0</td>\n",
       "      <td>0</td>\n",
       "      <td>0</td>\n",
       "      <td>0</td>\n",
       "      <td>1</td>\n",
       "      <td>...</td>\n",
       "      <td>0</td>\n",
       "      <td>1</td>\n",
       "      <td>0</td>\n",
       "      <td>0</td>\n",
       "      <td>1</td>\n",
       "      <td>0</td>\n",
       "      <td>0</td>\n",
       "      <td>0</td>\n",
       "      <td>0</td>\n",
       "      <td>1</td>\n",
       "    </tr>\n",
       "    <tr>\n",
       "      <th>279</th>\n",
       "      <td>0</td>\n",
       "      <td>0</td>\n",
       "      <td>0</td>\n",
       "      <td>0</td>\n",
       "      <td>0</td>\n",
       "      <td>0</td>\n",
       "      <td>0</td>\n",
       "      <td>1</td>\n",
       "      <td>0</td>\n",
       "      <td>0</td>\n",
       "      <td>...</td>\n",
       "      <td>0</td>\n",
       "      <td>0</td>\n",
       "      <td>0</td>\n",
       "      <td>0</td>\n",
       "      <td>0</td>\n",
       "      <td>1</td>\n",
       "      <td>1</td>\n",
       "      <td>0</td>\n",
       "      <td>0</td>\n",
       "      <td>0</td>\n",
       "    </tr>\n",
       "    <tr>\n",
       "      <th>1490</th>\n",
       "      <td>0</td>\n",
       "      <td>0</td>\n",
       "      <td>0</td>\n",
       "      <td>0</td>\n",
       "      <td>0</td>\n",
       "      <td>1</td>\n",
       "      <td>0</td>\n",
       "      <td>0</td>\n",
       "      <td>1</td>\n",
       "      <td>0</td>\n",
       "      <td>...</td>\n",
       "      <td>0</td>\n",
       "      <td>0</td>\n",
       "      <td>0</td>\n",
       "      <td>1</td>\n",
       "      <td>0</td>\n",
       "      <td>0</td>\n",
       "      <td>0</td>\n",
       "      <td>0</td>\n",
       "      <td>1</td>\n",
       "      <td>0</td>\n",
       "    </tr>\n",
       "    <tr>\n",
       "      <th>3321</th>\n",
       "      <td>0</td>\n",
       "      <td>0</td>\n",
       "      <td>1</td>\n",
       "      <td>0</td>\n",
       "      <td>0</td>\n",
       "      <td>0</td>\n",
       "      <td>0</td>\n",
       "      <td>0</td>\n",
       "      <td>0</td>\n",
       "      <td>0</td>\n",
       "      <td>...</td>\n",
       "      <td>0</td>\n",
       "      <td>0</td>\n",
       "      <td>0</td>\n",
       "      <td>0</td>\n",
       "      <td>1</td>\n",
       "      <td>0</td>\n",
       "      <td>0</td>\n",
       "      <td>0</td>\n",
       "      <td>0</td>\n",
       "      <td>1</td>\n",
       "    </tr>\n",
       "    <tr>\n",
       "      <th>2196</th>\n",
       "      <td>0</td>\n",
       "      <td>0</td>\n",
       "      <td>0</td>\n",
       "      <td>0</td>\n",
       "      <td>0</td>\n",
       "      <td>1</td>\n",
       "      <td>0</td>\n",
       "      <td>0</td>\n",
       "      <td>1</td>\n",
       "      <td>0</td>\n",
       "      <td>...</td>\n",
       "      <td>1</td>\n",
       "      <td>0</td>\n",
       "      <td>0</td>\n",
       "      <td>0</td>\n",
       "      <td>1</td>\n",
       "      <td>0</td>\n",
       "      <td>0</td>\n",
       "      <td>0</td>\n",
       "      <td>0</td>\n",
       "      <td>1</td>\n",
       "    </tr>\n",
       "  </tbody>\n",
       "</table>\n",
       "<p>5 rows × 38 columns</p>\n",
       "</div>"
      ],
      "text/plain": [
       "      CARRIER_CO  CARRIER_DH  CARRIER_DL  CARRIER_MQ  CARRIER_OH  CARRIER_RU  \\\n",
       "2210           0           1           0           0           0           0   \n",
       "279            0           0           0           0           0           0   \n",
       "1490           0           0           0           0           0           1   \n",
       "3321           0           0           1           0           0           0   \n",
       "2196           0           0           0           0           0           1   \n",
       "\n",
       "      CARRIER_UA  CARRIER_US  DEST_EWR  DEST_JFK  ...  DAY_WEEK_6  DAY_WEEK_7  \\\n",
       "2210           0           0         0         1  ...           0           1   \n",
       "279            0           1         0         0  ...           0           0   \n",
       "1490           0           0         1         0  ...           0           0   \n",
       "3321           0           0         0         0  ...           0           0   \n",
       "2196           0           0         1         0  ...           1           0   \n",
       "\n",
       "      Departure_Time_Interval_Early Morning  Departure_Time_Interval_Morning  \\\n",
       "2210                                      0                                0   \n",
       "279                                       0                                0   \n",
       "1490                                      0                                1   \n",
       "3321                                      0                                0   \n",
       "2196                                      0                                0   \n",
       "\n",
       "      Departure_Time_Interval_Afternoon  Departure_Time_Interval_Evening  \\\n",
       "2210                                  1                                0   \n",
       "279                                   0                                1   \n",
       "1490                                  0                                0   \n",
       "3321                                  1                                0   \n",
       "2196                                  1                                0   \n",
       "\n",
       "      Days_of_Month_1 to 7  Days_of_Month_8 to 14  Days_of_Month_16 to 21  \\\n",
       "2210                     0                      0                       0   \n",
       "279                      1                      0                       0   \n",
       "1490                     0                      0                       1   \n",
       "3321                     0                      0                       0   \n",
       "2196                     0                      0                       0   \n",
       "\n",
       "      Days_of_Month_22 onwards  \n",
       "2210                         1  \n",
       "279                          0  \n",
       "1490                         0  \n",
       "3321                         1  \n",
       "2196                         1  \n",
       "\n",
       "[5 rows x 38 columns]"
      ]
     },
     "execution_count": 68,
     "metadata": {},
     "output_type": "execute_result"
    }
   ],
   "source": [
    "Valid_X_over.head()"
   ]
  },
  {
   "cell_type": "code",
   "execution_count": 69,
   "id": "6408fa4f",
   "metadata": {},
   "outputs": [
    {
     "name": "stdout",
     "output_type": "stream",
     "text": [
      "     actual predicted\n",
      "135  ontime    ontime\n"
     ]
    }
   ],
   "source": [
    "df = pd.concat([pd.DataFrame({'actual': valid_y_over, 'predicted': y_valid_pred})], axis=1)\n",
    "mask = ((Valid_X_over.CARRIER_MQ == 1) & (Valid_X_over.DAY_WEEK_6 == 1) & (Valid_X_over.Departure_Time_Interval_Morning == 0) & (Valid_X_over.DEST_LGA == 1) & (Valid_X_over.ORIGIN_DCA == 1)) \n",
    "\n",
    "print(df[mask])"
   ]
  },
  {
   "cell_type": "markdown",
   "id": "79e055b9",
   "metadata": {},
   "source": [
    "# Naive Bayes - Unbalanced Data"
   ]
  },
  {
   "cell_type": "markdown",
   "id": "836ebf97",
   "metadata": {},
   "source": [
    "Train the model."
   ]
  },
  {
   "cell_type": "code",
   "execution_count": 70,
   "id": "0cc67a03",
   "metadata": {},
   "outputs": [
    {
     "data": {
      "text/plain": [
       "MultinomialNB(alpha=0.01)"
      ]
     },
     "execution_count": 70,
     "metadata": {},
     "output_type": "execute_result"
    }
   ],
   "source": [
    "X_nb = MultinomialNB(alpha=0.01) \n",
    "X_nb.fit(train_X, train_y)"
   ]
  },
  {
   "cell_type": "markdown",
   "id": "29c5dccc",
   "metadata": {},
   "source": [
    "Predict the probabilities."
   ]
  },
  {
   "cell_type": "code",
   "execution_count": 71,
   "id": "0f5265c7",
   "metadata": {},
   "outputs": [],
   "source": [
    "predProb_train_1 = X_nb.predict_proba(train_X) \n",
    "predProb_valid_1 = X_nb.predict_proba(Valid_X)"
   ]
  },
  {
   "cell_type": "markdown",
   "id": "d150882f",
   "metadata": {},
   "source": [
    "Predict class membership."
   ]
  },
  {
   "cell_type": "code",
   "execution_count": 72,
   "id": "e1cef23d",
   "metadata": {},
   "outputs": [],
   "source": [
    "y_valid_pred_2 = X_nb.predict(Valid_X)\n",
    "y_train_pred_2 = X_nb.predict(train_X)"
   ]
  },
  {
   "cell_type": "markdown",
   "id": "6155f29c",
   "metadata": {},
   "source": [
    "Use model to predict a new datapoint."
   ]
  },
  {
   "cell_type": "code",
   "execution_count": 73,
   "id": "e5b6d6fc",
   "metadata": {},
   "outputs": [
    {
     "name": "stdout",
     "output_type": "stream",
     "text": [
      "      actual predicted\n",
      "136   ontime    ontime\n",
      "1707  ontime    ontime\n"
     ]
    }
   ],
   "source": [
    "df = pd.concat([pd.DataFrame({'actual': valid_y, 'predicted': y_valid_pred_2})], axis=1)\n",
    "mask = ((Valid_X.CARRIER_MQ == 1) & (Valid_X.DAY_WEEK_6 == 1) & (Valid_X.Departure_Time_Interval_Morning == 0) & (Valid_X.DEST_LGA == 1) & (Valid_X.ORIGIN_DCA == 1)) \n",
    "\n",
    "print(df[mask])"
   ]
  },
  {
   "cell_type": "markdown",
   "id": "0a5251ad",
   "metadata": {},
   "source": [
    "# Naive Bayes - Model Evaluation"
   ]
  },
  {
   "cell_type": "markdown",
   "id": "95a7cec0",
   "metadata": {},
   "source": [
    "Accuracy score with confusion matrix for balanced data."
   ]
  },
  {
   "cell_type": "code",
   "execution_count": 74,
   "id": "b3d93cd0",
   "metadata": {},
   "outputs": [
    {
     "name": "stdout",
     "output_type": "stream",
     "text": [
      "Confusion Matrix (Accuracy 0.6615)\n",
      "\n",
      "       Prediction\n",
      "Actual   0   1\n",
      "     0 489 221\n",
      "     1 259 449\n"
     ]
    }
   ],
   "source": [
    "dmba.classificationSummary(valid_y_over, y_valid_pred)"
   ]
  },
  {
   "cell_type": "markdown",
   "id": "d87f0944",
   "metadata": {},
   "source": [
    "Accuracy score with confusion matrix for unbalanced data."
   ]
  },
  {
   "cell_type": "code",
   "execution_count": 75,
   "id": "8365c096",
   "metadata": {},
   "outputs": [
    {
     "name": "stdout",
     "output_type": "stream",
     "text": [
      "Confusion Matrix (Accuracy 0.8011)\n",
      "\n",
      "       Prediction\n",
      "Actual   0   1\n",
      "     0  43 132\n",
      "     1  43 662\n"
     ]
    }
   ],
   "source": [
    "dmba.classificationSummary(valid_y, y_valid_pred_2)"
   ]
  },
  {
   "cell_type": "markdown",
   "id": "52256708",
   "metadata": {},
   "source": [
    "Accuracy Scores with confusion matrix for test data with unbalanced data."
   ]
  },
  {
   "cell_type": "code",
   "execution_count": 76,
   "id": "76557f42",
   "metadata": {},
   "outputs": [
    {
     "name": "stdout",
     "output_type": "stream",
     "text": [
      "Confusion Matrix (Accuracy 0.8000)\n",
      "\n",
      "       Prediction\n",
      "Actual 0 1\n",
      "     0 1 0\n",
      "     1 1 3\n"
     ]
    }
   ],
   "source": [
    "dmba.classificationSummary(y_test, X_nb.predict(x_test))"
   ]
  },
  {
   "cell_type": "markdown",
   "id": "048e7b0e",
   "metadata": {},
   "source": [
    "Accuracy Scores with confusion matrix for test data with balanced data."
   ]
  },
  {
   "cell_type": "code",
   "execution_count": 98,
   "id": "0432dab1",
   "metadata": {},
   "outputs": [
    {
     "name": "stdout",
     "output_type": "stream",
     "text": [
      "Confusion Matrix (Accuracy 0.6000)\n",
      "\n",
      "       Prediction\n",
      "Actual 0 1\n",
      "     0 1 0\n",
      "     1 2 2\n"
     ]
    }
   ],
   "source": [
    "dmba.classificationSummary(y_test, X_over_nb.predict(x_test))"
   ]
  },
  {
   "cell_type": "markdown",
   "id": "68910242",
   "metadata": {},
   "source": [
    "# Decision Tree Classifier - Unbalanced Data"
   ]
  },
  {
   "cell_type": "markdown",
   "id": "f5725cbb",
   "metadata": {},
   "source": [
    "Define initial parameters for maximum depth of tree, minimum samples for a split and minimum impurity decrease."
   ]
  },
  {
   "cell_type": "code",
   "execution_count": 77,
   "id": "57acfd11",
   "metadata": {},
   "outputs": [],
   "source": [
    "param_grid = {\n",
    "    \"max_depth\": [10, 20, 30, 40],\n",
    "    \"min_samples_split\": [20, 40, 60, 80, 100],\n",
    "    \"min_impurity_decrease\": [0, 0.0005, 0.001, 0.005, 0.01],\n",
    "}"
   ]
  },
  {
   "cell_type": "markdown",
   "id": "af428b29",
   "metadata": {},
   "source": [
    "Initialize a grid search to find the best parameters."
   ]
  },
  {
   "cell_type": "code",
   "execution_count": 78,
   "id": "63299df3",
   "metadata": {},
   "outputs": [],
   "source": [
    "gridsearch = GridSearchCV(DecisionTreeClassifier (random_state=1), param_grid, cv=5, \n",
    "                          n_jobs=-1)"
   ]
  },
  {
   "cell_type": "markdown",
   "id": "c8e296a2",
   "metadata": {},
   "source": [
    "Apply grid search, output will provide an accuracy score along with the parameters for the best tree."
   ]
  },
  {
   "cell_type": "code",
   "execution_count": 79,
   "id": "923bc0c0",
   "metadata": {},
   "outputs": [
    {
     "name": "stdout",
     "output_type": "stream",
     "text": [
      "Initial score:  0.8212121212121213\n",
      "Initial parameters:  {'max_depth': 10, 'min_impurity_decrease': 0.005, 'min_samples_split': 20}\n"
     ]
    }
   ],
   "source": [
    "gridsearch.fit(train_X, train_y)\n",
    "print('Initial score: ' ,gridsearch.best_score_)\n",
    "print('Initial parameters: ', gridsearch.best_params_)"
   ]
  },
  {
   "cell_type": "markdown",
   "id": "451ea82d",
   "metadata": {},
   "source": [
    "We update the parameters to a range of values near previous iteration of the grid search."
   ]
  },
  {
   "cell_type": "code",
   "execution_count": 80,
   "id": "61b8ef45",
   "metadata": {},
   "outputs": [],
   "source": [
    "param_grid = {\n",
    "    \n",
    "    'max_depth': list (range(10, 15)),\n",
    "    'min_samples_split': list (range(15, 25)), \n",
    "    'min_impurity_decrease': [0.005], \n",
    "}"
   ]
  },
  {
   "cell_type": "markdown",
   "id": "7244d572",
   "metadata": {},
   "source": [
    "Apply a new gridsearch to narrow down the best tree and the parameters."
   ]
  },
  {
   "cell_type": "code",
   "execution_count": 81,
   "id": "80aec6d7",
   "metadata": {},
   "outputs": [
    {
     "name": "stdout",
     "output_type": "stream",
     "text": [
      "Improved score:  0.8212121212121213\n",
      "Improved parameters:  {'max_depth': 10, 'min_impurity_decrease': 0.005, 'min_samples_split': 15}\n"
     ]
    }
   ],
   "source": [
    "gridSearch = GridSearchCV(DecisionTreeClassifier(random_state=1), param_grid, cv=5,\n",
    "n_jobs=-1)\n",
    "gridSearch.fit(train_X, train_y)\n",
    "print('Improved score: ', gridSearch.best_score_)\n",
    "print('Improved parameters: ', gridSearch.best_params_)\n",
    "bestClassTree1 = gridSearch.best_estimator_"
   ]
  },
  {
   "cell_type": "markdown",
   "id": "d87cb9d3",
   "metadata": {},
   "source": [
    "Best tree has a maximum depth of 10, minimum impurity decrease of 0.005 and minimum samples split of 15."
   ]
  },
  {
   "cell_type": "markdown",
   "id": "35be3791",
   "metadata": {},
   "source": [
    "# Decision Tree Classifier - Balanced Data"
   ]
  },
  {
   "cell_type": "markdown",
   "id": "edfd0eb7",
   "metadata": {},
   "source": [
    "Define initial parameters for maximum depth of tree, minimum samples for a split and minimum impurity decrease."
   ]
  },
  {
   "cell_type": "code",
   "execution_count": 82,
   "id": "c6ff054d",
   "metadata": {},
   "outputs": [],
   "source": [
    "param_grid = {\n",
    "    \"max_depth\": [10, 20, 30, 40],\n",
    "    \"min_samples_split\": [20, 40, 60, 80, 100],\n",
    "    \"min_impurity_decrease\": [0, 0.0005, 0.001, 0.005, 0.01],\n",
    "}"
   ]
  },
  {
   "cell_type": "markdown",
   "id": "1c1df13a",
   "metadata": {},
   "source": [
    "Initialize a grid search to find the best parameters."
   ]
  },
  {
   "cell_type": "code",
   "execution_count": 83,
   "id": "e6eb6643",
   "metadata": {},
   "outputs": [],
   "source": [
    "gridsearch = GridSearchCV(DecisionTreeClassifier (random_state=1), param_grid, cv=5, \n",
    "                          n_jobs=-1)"
   ]
  },
  {
   "cell_type": "markdown",
   "id": "a4a5f377",
   "metadata": {},
   "source": [
    "Apply grid search, output will provide an accuracy score along with the parameters for the best tree."
   ]
  },
  {
   "cell_type": "code",
   "execution_count": 84,
   "id": "fd938dc0",
   "metadata": {},
   "outputs": [
    {
     "name": "stdout",
     "output_type": "stream",
     "text": [
      "Initial score:  0.7328075117370891\n",
      "Initial parameters:  {'max_depth': 20, 'min_impurity_decrease': 0, 'min_samples_split': 20}\n"
     ]
    }
   ],
   "source": [
    "gridsearch.fit(train_X_over, train_y_over)\n",
    "print('Initial score: ' ,gridsearch.best_score_)\n",
    "print('Initial parameters: ', gridsearch.best_params_)"
   ]
  },
  {
   "cell_type": "markdown",
   "id": "b774719f",
   "metadata": {},
   "source": [
    "We update the parameters to a range of values near previous iteration of the grid search."
   ]
  },
  {
   "cell_type": "code",
   "execution_count": 85,
   "id": "8a97f767",
   "metadata": {},
   "outputs": [],
   "source": [
    "param_grid = {\n",
    "    \n",
    "    'max_depth': list (range(30, 35)), \n",
    "    'min_samples_split': list (range(15, 25)), \n",
    "    'min_impurity_decrease': [0], \n",
    "}"
   ]
  },
  {
   "cell_type": "markdown",
   "id": "29cf2924",
   "metadata": {},
   "source": [
    "Apply a new gridsearch to narrow down the best tree and the parameters."
   ]
  },
  {
   "cell_type": "code",
   "execution_count": 86,
   "id": "3a4fba47",
   "metadata": {},
   "outputs": [
    {
     "name": "stdout",
     "output_type": "stream",
     "text": [
      "Improved score:  0.7445633802816902\n",
      "Improved parameters:  {'max_depth': 30, 'min_impurity_decrease': 0, 'min_samples_split': 15}\n"
     ]
    }
   ],
   "source": [
    "gridSearch = GridSearchCV(DecisionTreeClassifier(random_state=1), param_grid, cv=5,\n",
    "n_jobs=-1)\n",
    "gridSearch.fit(train_X_over, train_y_over)\n",
    "print('Improved score: ', gridSearch.best_score_)\n",
    "print('Improved parameters: ', gridSearch.best_params_)\n",
    "bestClassTree2 = gridSearch.best_estimator_"
   ]
  },
  {
   "cell_type": "markdown",
   "id": "8b3c098d",
   "metadata": {},
   "source": [
    "Best tree has a maximum depth of 30, minimum impurity decrease of 0 and minimum samples split of 15."
   ]
  },
  {
   "cell_type": "markdown",
   "id": "ff0c406b",
   "metadata": {},
   "source": [
    "# Decision Tree Classifier Model Evaluation"
   ]
  },
  {
   "cell_type": "markdown",
   "id": "c1121754",
   "metadata": {},
   "source": [
    "Accuracy score and confusion matrix for unbalanced tree on validation data."
   ]
  },
  {
   "cell_type": "code",
   "execution_count": 87,
   "id": "c0c4ecd2",
   "metadata": {},
   "outputs": [
    {
     "name": "stdout",
     "output_type": "stream",
     "text": [
      "Confusion Matrix (Accuracy 0.8182)\n",
      "\n",
      "       Prediction\n",
      "Actual   0   1\n",
      "     0  15 160\n",
      "     1   0 705\n"
     ]
    }
   ],
   "source": [
    "dmba.classificationSummary(valid_y, bestClassTree1.predict(Valid_X))"
   ]
  },
  {
   "cell_type": "markdown",
   "id": "ce4ac6c6",
   "metadata": {},
   "source": [
    "Accuracy score and confusion matrix for unbalanced tree on test data."
   ]
  },
  {
   "cell_type": "code",
   "execution_count": 88,
   "id": "42c564d4",
   "metadata": {},
   "outputs": [
    {
     "name": "stdout",
     "output_type": "stream",
     "text": [
      "Confusion Matrix (Accuracy 0.8000)\n",
      "\n",
      "       Prediction\n",
      "Actual 0 1\n",
      "     0 0 1\n",
      "     1 0 4\n"
     ]
    }
   ],
   "source": [
    "dmba.classificationSummary(y_test, bestClassTree1.predict(x_test))"
   ]
  },
  {
   "cell_type": "markdown",
   "id": "2238fd88",
   "metadata": {},
   "source": [
    "Accuracy score and confusion matrix for balanced tree on validation data."
   ]
  },
  {
   "cell_type": "code",
   "execution_count": 89,
   "id": "17fac33a",
   "metadata": {},
   "outputs": [
    {
     "name": "stdout",
     "output_type": "stream",
     "text": [
      "Confusion Matrix (Accuracy 0.7432)\n",
      "\n",
      "       Prediction\n",
      "Actual   0   1\n",
      "     0 143  32\n",
      "     1 194 511\n"
     ]
    }
   ],
   "source": [
    "dmba.classificationSummary(valid_y, bestClassTree2.predict(Valid_X))"
   ]
  },
  {
   "cell_type": "markdown",
   "id": "797394f8",
   "metadata": {},
   "source": [
    "Accuracy score and confusion matrix for balanced tree on test data."
   ]
  },
  {
   "cell_type": "code",
   "execution_count": 90,
   "id": "83a44d57",
   "metadata": {},
   "outputs": [
    {
     "name": "stdout",
     "output_type": "stream",
     "text": [
      "Confusion Matrix (Accuracy 0.8000)\n",
      "\n",
      "       Prediction\n",
      "Actual 0 1\n",
      "     0 1 0\n",
      "     1 1 3\n"
     ]
    }
   ],
   "source": [
    "dmba.classificationSummary(y_test, bestClassTree2.predict(x_test))"
   ]
  },
  {
   "cell_type": "markdown",
   "id": "542e83b7",
   "metadata": {},
   "source": [
    "# Logistic Regression - Unbalanced Data"
   ]
  },
  {
   "cell_type": "markdown",
   "id": "863c0d99",
   "metadata": {},
   "source": [
    "Initializing Logistic Regression algorithm."
   ]
  },
  {
   "cell_type": "code",
   "execution_count": 91,
   "id": "e4c06912",
   "metadata": {},
   "outputs": [],
   "source": [
    "logit_reg = LogisticRegression()"
   ]
  },
  {
   "cell_type": "markdown",
   "id": "aad96b46",
   "metadata": {},
   "source": [
    "Training model."
   ]
  },
  {
   "cell_type": "code",
   "execution_count": 92,
   "id": "9bd037e9",
   "metadata": {},
   "outputs": [
    {
     "data": {
      "text/plain": [
       "LogisticRegression()"
      ]
     },
     "execution_count": 92,
     "metadata": {},
     "output_type": "execute_result"
    }
   ],
   "source": [
    "logit_reg.fit(train_X, train_y)"
   ]
  },
  {
   "cell_type": "markdown",
   "id": "88440e4b",
   "metadata": {},
   "source": [
    "Accuracy score and confusion matrix for validation data."
   ]
  },
  {
   "cell_type": "code",
   "execution_count": 93,
   "id": "64fa353d",
   "metadata": {},
   "outputs": [
    {
     "name": "stdout",
     "output_type": "stream",
     "text": [
      "Confusion Matrix (Accuracy 0.8182)\n",
      "\n",
      "       Prediction\n",
      "Actual   0   1\n",
      "     0  22 153\n",
      "     1   7 698\n"
     ]
    }
   ],
   "source": [
    "dmba.classificationSummary(valid_y, logit_reg.predict(Valid_X))"
   ]
  },
  {
   "cell_type": "markdown",
   "id": "42af491a",
   "metadata": {},
   "source": [
    "Accuracy score and confusion matrix for test data."
   ]
  },
  {
   "cell_type": "code",
   "execution_count": 94,
   "id": "5cd0dbc5",
   "metadata": {},
   "outputs": [
    {
     "name": "stdout",
     "output_type": "stream",
     "text": [
      "Confusion Matrix (Accuracy 0.8000)\n",
      "\n",
      "       Prediction\n",
      "Actual 0 1\n",
      "     0 0 1\n",
      "     1 0 4\n"
     ]
    }
   ],
   "source": [
    "dmba.classificationSummary(y_test, logit_reg.predict(x_test))"
   ]
  },
  {
   "cell_type": "markdown",
   "id": "801fe90d",
   "metadata": {},
   "source": [
    "# Logistic Regression - Balanced Data"
   ]
  },
  {
   "cell_type": "markdown",
   "id": "44efecc7",
   "metadata": {},
   "source": [
    "Training model."
   ]
  },
  {
   "cell_type": "code",
   "execution_count": 95,
   "id": "d8b5943e",
   "metadata": {},
   "outputs": [
    {
     "data": {
      "text/plain": [
       "LogisticRegression()"
      ]
     },
     "execution_count": 95,
     "metadata": {},
     "output_type": "execute_result"
    }
   ],
   "source": [
    "logit_reg.fit(train_X_over, train_y_over)"
   ]
  },
  {
   "cell_type": "markdown",
   "id": "2e9fd8be",
   "metadata": {},
   "source": [
    "Accuracy score and confusion matrix for validation data."
   ]
  },
  {
   "cell_type": "code",
   "execution_count": 96,
   "id": "ceb1a1a6",
   "metadata": {},
   "outputs": [
    {
     "name": "stdout",
     "output_type": "stream",
     "text": [
      "Confusion Matrix (Accuracy 0.6761)\n",
      "\n",
      "       Prediction\n",
      "Actual   0   1\n",
      "     0 110  65\n",
      "     1 220 485\n"
     ]
    }
   ],
   "source": [
    "dmba.classificationSummary(valid_y, logit_reg.predict(Valid_X))"
   ]
  },
  {
   "cell_type": "markdown",
   "id": "922bce00",
   "metadata": {},
   "source": [
    "Accuracy score and confusion matrix for test data."
   ]
  },
  {
   "cell_type": "code",
   "execution_count": 97,
   "id": "b7cee593",
   "metadata": {},
   "outputs": [
    {
     "name": "stdout",
     "output_type": "stream",
     "text": [
      "Confusion Matrix (Accuracy 0.6000)\n",
      "\n",
      "       Prediction\n",
      "Actual 0 1\n",
      "     0 1 0\n",
      "     1 2 2\n"
     ]
    }
   ],
   "source": [
    "dmba.classificationSummary(y_test, logit_reg.predict(x_test))"
   ]
  }
 ],
 "metadata": {
  "kernelspec": {
   "display_name": "Python 3 (ipykernel)",
   "language": "python",
   "name": "python3"
  },
  "language_info": {
   "codemirror_mode": {
    "name": "ipython",
    "version": 3
   },
   "file_extension": ".py",
   "mimetype": "text/x-python",
   "name": "python",
   "nbconvert_exporter": "python",
   "pygments_lexer": "ipython3",
   "version": "3.9.13"
  }
 },
 "nbformat": 4,
 "nbformat_minor": 5
}
